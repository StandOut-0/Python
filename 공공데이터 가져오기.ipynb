{
 "cells": [
  {
   "cell_type": "code",
   "execution_count": 54,
   "id": "c4b1bb57",
   "metadata": {},
   "outputs": [],
   "source": [
    "# auth='VwDBX0E647kIM0G0NtHxJIpzhnyULCpyMZeI0EORMzsEI28QJ1J9S18fGOqqiOsCykLJdF42fyQIk%2F%2BVW7zi4Q%3D%3D'"
   ]
  },
  {
   "cell_type": "code",
   "execution_count": 55,
   "id": "fb93888a",
   "metadata": {},
   "outputs": [],
   "source": [
    "url='http://apis.data.go.kr/B551177/StatusOfPassengerFlightsOdp/getPassengerArrivalsOdp?serviceKey=VwDBX0E647kIM0G0NtHxJIpzhnyULCpyMZeI0EORMzsEI28QJ1J9S18fGOqqiOsCykLJdF42fyQIk%2F%2BVW7zi4Q%3D%3D&from_time=0000&to_time=2400&airport=TAS&flight_id=KE5942&airline=KE&lang=K&type=xml'"
   ]
  },
  {
   "cell_type": "code",
   "execution_count": 56,
   "id": "7f0d3e40",
   "metadata": {},
   "outputs": [],
   "source": [
    "# url"
   ]
  },
  {
   "cell_type": "code",
   "execution_count": 57,
   "id": "e42499c4",
   "metadata": {},
   "outputs": [],
   "source": [
    "import requests"
   ]
  },
  {
   "cell_type": "code",
   "execution_count": 71,
   "id": "c9361557",
   "metadata": {},
   "outputs": [
    {
     "data": {
      "text/plain": [
       "<Response [200]>"
      ]
     },
     "execution_count": 71,
     "metadata": {},
     "output_type": "execute_result"
    }
   ],
   "source": [
    "requests.get(url)"
   ]
  },
  {
   "cell_type": "code",
   "execution_count": 72,
   "id": "9110aa44",
   "metadata": {},
   "outputs": [],
   "source": [
    "status=requests.get(url)"
   ]
  },
  {
   "cell_type": "code",
   "execution_count": 73,
   "id": "93353643",
   "metadata": {},
   "outputs": [
    {
     "data": {
      "text/plain": [
       "b'<?xml version=\"1.0\" encoding=\"UTF-8\" standalone=\"yes\"?><response><header><resultCode>00</resultCode><resultMsg>NORMAL SERVICE.</resultMsg></header><body><items><item><airline>\\xeb\\x8c\\x80\\xed\\x95\\x9c\\xed\\x95\\xad\\xea\\xb3\\xb5</airline><airport>\\xed\\x83\\x80\\xec\\x8a\\x88\\xec\\xbc\\x84\\xed\\x8a\\xb8</airport><airportCode>TAS</airportCode><carousel>17</carousel><cityCode>TAS</cityCode><codeshare>Slave</codeshare><elapsetime>0532</elapsetime><estimatedDateTime>0942</estimatedDateTime><exitnumber>E</exitnumber><firstopover></firstopover><flightId>KE5942</flightId><gatenumber>35</gatenumber><masterflightid>HY511</masterflightid><remark>\\xeb\\x8f\\x84\\xec\\xb0\\xa9</remark><scheduleDateTime>0940</scheduleDateTime><secstopover></secstopover><terminalId>P01</terminalId><thistopover></thistopover><typeOfFlight>I</typeOfFlight></item></items></body></response>'"
      ]
     },
     "execution_count": 73,
     "metadata": {},
     "output_type": "execute_result"
    }
   ],
   "source": [
    "status.content"
   ]
  },
  {
   "cell_type": "code",
   "execution_count": 61,
   "id": "5af02e07",
   "metadata": {},
   "outputs": [
    {
     "name": "stdout",
     "output_type": "stream",
     "text": [
      "Defaulting to user installation because normal site-packages is not writeable\n",
      "Requirement already satisfied: xmltodict in c:\\users\\409\\appdata\\roaming\\python\\python39\\site-packages (0.13.0)\n"
     ]
    }
   ],
   "source": [
    "!pip install xmltodict"
   ]
  },
  {
   "cell_type": "code",
   "execution_count": 62,
   "id": "a4434b76",
   "metadata": {},
   "outputs": [],
   "source": [
    "import xmltodict"
   ]
  },
  {
   "cell_type": "code",
   "execution_count": 63,
   "id": "756b387c",
   "metadata": {},
   "outputs": [
    {
     "data": {
      "text/plain": [
       "{'response': {'header': {'resultCode': '00', 'resultMsg': 'NORMAL SERVICE.'},\n",
       "  'body': {'items': {'item': {'airline': '대한항공',\n",
       "     'airport': '타슈켄트',\n",
       "     'airportCode': 'TAS',\n",
       "     'carousel': '17',\n",
       "     'cityCode': 'TAS',\n",
       "     'codeshare': 'Slave',\n",
       "     'elapsetime': '0532',\n",
       "     'estimatedDateTime': '0942',\n",
       "     'exitnumber': 'E',\n",
       "     'firstopover': None,\n",
       "     'flightId': 'KE5942',\n",
       "     'gatenumber': '35',\n",
       "     'masterflightid': 'HY511',\n",
       "     'remark': '도착',\n",
       "     'scheduleDateTime': '0940',\n",
       "     'secstopover': None,\n",
       "     'terminalId': 'P01',\n",
       "     'thistopover': None,\n",
       "     'typeOfFlight': 'I'}}}}}"
      ]
     },
     "execution_count": 63,
     "metadata": {},
     "output_type": "execute_result"
    }
   ],
   "source": [
    "xmltodict.parse(status.content)"
   ]
  },
  {
   "cell_type": "code",
   "execution_count": 64,
   "id": "e27458d1",
   "metadata": {},
   "outputs": [],
   "source": [
    "dic_data1=xmltodict.parse(status.content)"
   ]
  },
  {
   "cell_type": "code",
   "execution_count": 65,
   "id": "a1f51b67",
   "metadata": {},
   "outputs": [
    {
     "data": {
      "text/plain": [
       "{'response': {'header': {'resultCode': '00', 'resultMsg': 'NORMAL SERVICE.'},\n",
       "  'body': {'items': {'item': {'airline': '대한항공',\n",
       "     'airport': '타슈켄트',\n",
       "     'airportCode': 'TAS',\n",
       "     'carousel': '17',\n",
       "     'cityCode': 'TAS',\n",
       "     'codeshare': 'Slave',\n",
       "     'elapsetime': '0532',\n",
       "     'estimatedDateTime': '0942',\n",
       "     'exitnumber': 'E',\n",
       "     'firstopover': None,\n",
       "     'flightId': 'KE5942',\n",
       "     'gatenumber': '35',\n",
       "     'masterflightid': 'HY511',\n",
       "     'remark': '도착',\n",
       "     'scheduleDateTime': '0940',\n",
       "     'secstopover': None,\n",
       "     'terminalId': 'P01',\n",
       "     'thistopover': None,\n",
       "     'typeOfFlight': 'I'}}}}}"
      ]
     },
     "execution_count": 65,
     "metadata": {},
     "output_type": "execute_result"
    }
   ],
   "source": [
    "dic_data1"
   ]
  },
  {
   "cell_type": "code",
   "execution_count": 66,
   "id": "20c64ce4",
   "metadata": {},
   "outputs": [
    {
     "data": {
      "text/plain": [
       "{'items': {'item': {'airline': '대한항공',\n",
       "   'airport': '타슈켄트',\n",
       "   'airportCode': 'TAS',\n",
       "   'carousel': '17',\n",
       "   'cityCode': 'TAS',\n",
       "   'codeshare': 'Slave',\n",
       "   'elapsetime': '0532',\n",
       "   'estimatedDateTime': '0942',\n",
       "   'exitnumber': 'E',\n",
       "   'firstopover': None,\n",
       "   'flightId': 'KE5942',\n",
       "   'gatenumber': '35',\n",
       "   'masterflightid': 'HY511',\n",
       "   'remark': '도착',\n",
       "   'scheduleDateTime': '0940',\n",
       "   'secstopover': None,\n",
       "   'terminalId': 'P01',\n",
       "   'thistopover': None,\n",
       "   'typeOfFlight': 'I'}}}"
      ]
     },
     "execution_count": 66,
     "metadata": {},
     "output_type": "execute_result"
    }
   ],
   "source": [
    "dic_data1['response']['body']"
   ]
  },
  {
   "cell_type": "code",
   "execution_count": 67,
   "id": "0b4a0260",
   "metadata": {},
   "outputs": [
    {
     "data": {
      "text/plain": [
       "{'item': {'airline': '대한항공',\n",
       "  'airport': '타슈켄트',\n",
       "  'airportCode': 'TAS',\n",
       "  'carousel': '17',\n",
       "  'cityCode': 'TAS',\n",
       "  'codeshare': 'Slave',\n",
       "  'elapsetime': '0532',\n",
       "  'estimatedDateTime': '0942',\n",
       "  'exitnumber': 'E',\n",
       "  'firstopover': None,\n",
       "  'flightId': 'KE5942',\n",
       "  'gatenumber': '35',\n",
       "  'masterflightid': 'HY511',\n",
       "  'remark': '도착',\n",
       "  'scheduleDateTime': '0940',\n",
       "  'secstopover': None,\n",
       "  'terminalId': 'P01',\n",
       "  'thistopover': None,\n",
       "  'typeOfFlight': 'I'}}"
      ]
     },
     "execution_count": 67,
     "metadata": {},
     "output_type": "execute_result"
    }
   ],
   "source": [
    "dic_data1['response']['body']['items']"
   ]
  },
  {
   "cell_type": "code",
   "execution_count": 68,
   "id": "33ea1271",
   "metadata": {},
   "outputs": [
    {
     "data": {
      "text/plain": [
       "{'airline': '대한항공',\n",
       " 'airport': '타슈켄트',\n",
       " 'airportCode': 'TAS',\n",
       " 'carousel': '17',\n",
       " 'cityCode': 'TAS',\n",
       " 'codeshare': 'Slave',\n",
       " 'elapsetime': '0532',\n",
       " 'estimatedDateTime': '0942',\n",
       " 'exitnumber': 'E',\n",
       " 'firstopover': None,\n",
       " 'flightId': 'KE5942',\n",
       " 'gatenumber': '35',\n",
       " 'masterflightid': 'HY511',\n",
       " 'remark': '도착',\n",
       " 'scheduleDateTime': '0940',\n",
       " 'secstopover': None,\n",
       " 'terminalId': 'P01',\n",
       " 'thistopover': None,\n",
       " 'typeOfFlight': 'I'}"
      ]
     },
     "execution_count": 68,
     "metadata": {},
     "output_type": "execute_result"
    }
   ],
   "source": [
    "dic_data1['response']['body']['items']['item']"
   ]
  },
  {
   "cell_type": "code",
   "execution_count": 74,
   "id": "978c140b",
   "metadata": {},
   "outputs": [],
   "source": [
    "di_items=dic_data1['response']['body']['items']['item']"
   ]
  },
  {
   "cell_type": "code",
   "execution_count": 70,
   "id": "cab1ab61",
   "metadata": {},
   "outputs": [
    {
     "name": "stdout",
     "output_type": "stream",
     "text": [
      "airline 대한항공\n",
      "airport 타슈켄트\n",
      "airportCode TAS\n",
      "carousel 17\n",
      "cityCode TAS\n",
      "codeshare Slave\n",
      "elapsetime 0532\n",
      "estimatedDateTime 0942\n",
      "exitnumber E\n",
      "firstopover None\n",
      "flightId KE5942\n",
      "gatenumber 35\n",
      "masterflightid HY511\n",
      "remark 도착\n",
      "scheduleDateTime 0940\n",
      "secstopover None\n",
      "terminalId P01\n",
      "thistopover None\n",
      "typeOfFlight I\n"
     ]
    }
   ],
   "source": [
    "for k,v in di_items.items():\n",
    "    print(k,v)"
   ]
  },
  {
   "cell_type": "code",
   "execution_count": null,
   "id": "95d529db",
   "metadata": {},
   "outputs": [],
   "source": []
  },
  {
   "cell_type": "code",
   "execution_count": null,
   "id": "4adff634",
   "metadata": {},
   "outputs": [],
   "source": []
  },
  {
   "cell_type": "code",
   "execution_count": null,
   "id": "e0a67466",
   "metadata": {},
   "outputs": [],
   "source": []
  },
  {
   "cell_type": "code",
   "execution_count": null,
   "id": "74e12c1c",
   "metadata": {},
   "outputs": [],
   "source": []
  },
  {
   "cell_type": "code",
   "execution_count": null,
   "id": "2fc2ed9b",
   "metadata": {},
   "outputs": [],
   "source": []
  },
  {
   "cell_type": "code",
   "execution_count": null,
   "id": "75e8cca1",
   "metadata": {},
   "outputs": [],
   "source": []
  },
  {
   "cell_type": "code",
   "execution_count": null,
   "id": "1635af07",
   "metadata": {},
   "outputs": [],
   "source": []
  }
 ],
 "metadata": {
  "kernelspec": {
   "display_name": "Python 3 (ipykernel)",
   "language": "python",
   "name": "python3"
  },
  "language_info": {
   "codemirror_mode": {
    "name": "ipython",
    "version": 3
   },
   "file_extension": ".py",
   "mimetype": "text/x-python",
   "name": "python",
   "nbconvert_exporter": "python",
   "pygments_lexer": "ipython3",
   "version": "3.9.13"
  }
 },
 "nbformat": 4,
 "nbformat_minor": 5
}
