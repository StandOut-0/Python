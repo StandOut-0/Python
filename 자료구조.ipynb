{
 "cells": [
  {
   "cell_type": "code",
   "execution_count": 7,
   "id": "acbf5905",
   "metadata": {},
   "outputs": [],
   "source": [
    "# 주석처리"
   ]
  },
  {
   "cell_type": "code",
   "execution_count": 16,
   "id": "691edc41",
   "metadata": {},
   "outputs": [
    {
     "name": "stdout",
     "output_type": "stream",
     "text": [
      "<class 'int'>\n",
      "<class 'str'>\n",
      "<class 'bool'>\n"
     ]
    }
   ],
   "source": [
    "# 변수\n",
    "a=1\n",
    "b='a'\n",
    "c=True\n",
    "print(type(a))\n",
    "print(type(b))\n",
    "print(type(c))"
   ]
  },
  {
   "cell_type": "code",
   "execution_count": 50,
   "id": "4ba1f43a",
   "metadata": {},
   "outputs": [
    {
     "name": "stdout",
     "output_type": "stream",
     "text": [
      "<class 'bool'>\n",
      "<class 'str'>\n",
      "<class 'float'>\n",
      "<class 'int'>\n"
     ]
    }
   ],
   "source": [
    "# 데이터타입, 형변환\n",
    "type(True)\n",
    "a=str(True)\n",
    "print(type(True))\n",
    "print(type(a))\n",
    "print(type(1.0))\n",
    "print(type(1))"
   ]
  },
  {
   "cell_type": "code",
   "execution_count": 48,
   "id": "34af7261",
   "metadata": {},
   "outputs": [
    {
     "name": "stdout",
     "output_type": "stream",
     "text": [
      "3시는 정수다\n",
      "3.000000시는 소수점이다\n",
      "3시는 스트링다\n"
     ]
    }
   ],
   "source": [
    "# formatting\n",
    "print(\"%d시는 정수다\"%3)\n",
    "print(\"%f시는 소수점이다\"%3)\n",
    "print(\"%s시는 스트링다\"%3)"
   ]
  },
  {
   "cell_type": "code",
   "execution_count": 128,
   "id": "14c361e8",
   "metadata": {},
   "outputs": [
    {
     "name": "stdout",
     "output_type": "stream",
     "text": [
      "True\n",
      "False\n"
     ]
    }
   ],
   "source": [
    "# and or\n",
    "print(4<5 and 4<5)\n",
    "print(4>5 or 4>5)"
   ]
  },
  {
   "cell_type": "code",
   "execution_count": 129,
   "id": "a3bd0fde",
   "metadata": {},
   "outputs": [
    {
     "name": "stdout",
     "output_type": "stream",
     "text": [
      "연산\n",
      "3\n",
      "-1\n",
      "2\n",
      "0.5\n",
      "1\n",
      "비트연산자\n",
      "1\n",
      "3\n",
      "2\n",
      "-4\n"
     ]
    }
   ],
   "source": [
    "# 연산자\n",
    "a=1\n",
    "b=2\n",
    "print(\"연산\")\n",
    "print(a+b)\n",
    "print(a-b)\n",
    "print(a*b)\n",
    "print(a/b)\n",
    "print(a%b)\n",
    "\n",
    "\n",
    "print(\"비트연산자\")\n",
    "print(1&3) #and\n",
    "print(1|3) #or\n",
    "print(1^3) #xor\n",
    "print(~3) #tilder"
   ]
  },
  {
   "cell_type": "code",
   "execution_count": 41,
   "id": "e9e8f7df",
   "metadata": {},
   "outputs": [
    {
     "data": {
      "text/plain": [
       "True"
      ]
     },
     "execution_count": 41,
     "metadata": {},
     "output_type": "execute_result"
    }
   ],
   "source": [
    "#in\n",
    "1 in [1, 2, 3]"
   ]
  },
  {
   "cell_type": "code",
   "execution_count": 28,
   "id": "7bc6aa87",
   "metadata": {},
   "outputs": [
    {
     "name": "stdout",
     "output_type": "stream",
     "text": [
      "3번 반복되나?\n",
      "3번 반복되나?\n",
      "3번 반복되나?\n"
     ]
    }
   ],
   "source": [
    "# 제어문(반복)\n",
    "for i in range(3):\n",
    "    print(\"3번 반복되나?\")"
   ]
  },
  {
   "cell_type": "code",
   "execution_count": 32,
   "id": "a981f126",
   "metadata": {},
   "outputs": [
    {
     "name": "stdout",
     "output_type": "stream",
     "text": [
      "3이 아니네요\n"
     ]
    }
   ],
   "source": [
    "# 제어문(조건)\n",
    "a=4\n",
    "if a==3:\n",
    "    print(\"3이 맞네요\")\n",
    "else:\n",
    "    print(\"3이 아니네요\")"
   ]
  },
  {
   "cell_type": "code",
   "execution_count": 58,
   "id": "8405fb86",
   "metadata": {},
   "outputs": [
    {
     "name": "stdout",
     "output_type": "stream",
     "text": [
      "숫자를 입력하세요2\n",
      "똑같이 출력될게요,  2\n"
     ]
    }
   ],
   "source": [
    "# 입력과 출력\n",
    "a=input(\"숫자를 입력하세요\")\n",
    "print(\"똑같이 출력될게요, \", a)"
   ]
  },
  {
   "cell_type": "code",
   "execution_count": 134,
   "id": "a6a91e91",
   "metadata": {},
   "outputs": [],
   "source": [
    "# 자료구조 list[], tuple(), 문자열\"\", dictionary{}\n",
    "\n",
    "# 공통점\n",
    "#  - 인덱싱(slicing, 조각조각잘라내다)이 있다.\n",
    "#  - for문과 함께 사용한다.\n",
    "\n",
    "# 차이점\n",
    "#  - list는 요소의 값을 변경할 수 있다. mutable\n",
    "#  - tuple, 문자열은 요소의 값을 변경할 수 있다. immutable"
   ]
  },
  {
   "cell_type": "code",
   "execution_count": 133,
   "id": "445e7316",
   "metadata": {},
   "outputs": [
    {
     "name": "stdout",
     "output_type": "stream",
     "text": [
      "2\n",
      "2\n",
      "자\n",
      "11\n"
     ]
    }
   ],
   "source": [
    "# 인덱싱(slicing, 조각조각잘라내다)이 있다.\n",
    "list2= [1, 2, 3]\n",
    "tuple1= (1, 2, 3)\n",
    "str1= \"문자열이다\"\n",
    "dictionary1= {1:11, 2:22, 3:33}\n",
    "\n",
    "print(list2[1])\n",
    "print(tuple1[1])\n",
    "print(str1[1])\n",
    "print(dictionary1[1])"
   ]
  },
  {
   "cell_type": "code",
   "execution_count": 137,
   "id": "eb6c0372",
   "metadata": {},
   "outputs": [
    {
     "name": "stdout",
     "output_type": "stream",
     "text": [
      "[1, '산', 3]\n"
     ]
    }
   ],
   "source": [
    "# list[], mutable 가변의, 요소의 값 변경가능\n",
    "type(list2)\n",
    "list2[1] = '산'\n",
    "print(list2)"
   ]
  },
  {
   "cell_type": "code",
   "execution_count": 139,
   "id": "2da3ac7d",
   "metadata": {},
   "outputs": [
    {
     "ename": "TypeError",
     "evalue": "'tuple' object does not support item assignment",
     "output_type": "error",
     "traceback": [
      "\u001b[1;31m---------------------------------------------------------------------------\u001b[0m",
      "\u001b[1;31mTypeError\u001b[0m                                 Traceback (most recent call last)",
      "\u001b[1;32m~\\AppData\\Local\\Temp\\ipykernel_11920\\4213741889.py\u001b[0m in \u001b[0;36m<module>\u001b[1;34m\u001b[0m\n\u001b[0;32m      1\u001b[0m \u001b[1;31m# immutable 가변의, 요소의 값 변경 불가능\u001b[0m\u001b[1;33m\u001b[0m\u001b[1;33m\u001b[0m\u001b[0m\n\u001b[0;32m      2\u001b[0m \u001b[0mtype\u001b[0m\u001b[1;33m(\u001b[0m\u001b[0mtuple1\u001b[0m\u001b[1;33m)\u001b[0m\u001b[1;33m\u001b[0m\u001b[1;33m\u001b[0m\u001b[0m\n\u001b[1;32m----> 3\u001b[1;33m \u001b[0mtuple1\u001b[0m\u001b[1;33m[\u001b[0m\u001b[1;36m1\u001b[0m\u001b[1;33m]\u001b[0m \u001b[1;33m=\u001b[0m \u001b[1;34m'산'\u001b[0m\u001b[1;33m\u001b[0m\u001b[1;33m\u001b[0m\u001b[0m\n\u001b[0m\u001b[0;32m      4\u001b[0m \u001b[0mprint\u001b[0m\u001b[1;33m(\u001b[0m\u001b[0mtuple1\u001b[0m\u001b[1;33m)\u001b[0m\u001b[1;33m\u001b[0m\u001b[1;33m\u001b[0m\u001b[0m\n",
      "\u001b[1;31mTypeError\u001b[0m: 'tuple' object does not support item assignment"
     ]
    }
   ],
   "source": [
    "# tuple(), immutable 가변의, 요소의 값 변경 불가능\n",
    "type(tuple1)\n",
    "tuple1[1] = '산'\n",
    "print(tuple1)"
   ]
  },
  {
   "cell_type": "code",
   "execution_count": 100,
   "id": "414ed1e5",
   "metadata": {},
   "outputs": [
    {
     "ename": "TypeError",
     "evalue": "'str' object does not support item assignment",
     "output_type": "error",
     "traceback": [
      "\u001b[1;31m---------------------------------------------------------------------------\u001b[0m",
      "\u001b[1;31mTypeError\u001b[0m                                 Traceback (most recent call last)",
      "\u001b[1;32m~\\AppData\\Local\\Temp\\ipykernel_11920\\3266450200.py\u001b[0m in \u001b[0;36m<module>\u001b[1;34m\u001b[0m\n\u001b[0;32m      2\u001b[0m \u001b[0mstr1\u001b[0m\u001b[1;33m=\u001b[0m\u001b[1;34m\"바꿀수있을까요?\"\u001b[0m\u001b[1;33m\u001b[0m\u001b[1;33m\u001b[0m\u001b[0m\n\u001b[0;32m      3\u001b[0m \u001b[0mtype\u001b[0m\u001b[1;33m(\u001b[0m\u001b[0mstr1\u001b[0m\u001b[1;33m)\u001b[0m\u001b[1;33m\u001b[0m\u001b[1;33m\u001b[0m\u001b[0m\n\u001b[1;32m----> 4\u001b[1;33m \u001b[0mstr1\u001b[0m\u001b[1;33m[\u001b[0m\u001b[1;36m1\u001b[0m\u001b[1;33m]\u001b[0m \u001b[1;33m=\u001b[0m \u001b[1;34m'산'\u001b[0m\u001b[1;33m\u001b[0m\u001b[1;33m\u001b[0m\u001b[0m\n\u001b[0m\u001b[0;32m      5\u001b[0m \u001b[0mprint\u001b[0m\u001b[1;33m(\u001b[0m\u001b[0mtu1\u001b[0m\u001b[1;33m)\u001b[0m\u001b[1;33m\u001b[0m\u001b[1;33m\u001b[0m\u001b[0m\n",
      "\u001b[1;31mTypeError\u001b[0m: 'str' object does not support item assignment"
     ]
    }
   ],
   "source": [
    "# immutable 가변의, 요소의 값 변경 불가능\n",
    "str1=\"바꿀수있을까요?\"\n",
    "type(str1)\n",
    "str1[1] = '산'\n",
    "print(tu1)"
   ]
  },
  {
   "cell_type": "code",
   "execution_count": 112,
   "id": "8536c7e5",
   "metadata": {},
   "outputs": [
    {
     "name": "stdout",
     "output_type": "stream",
     "text": [
      "1\n",
      "[1, '산']\n",
      "[1, '산']\n",
      "[1, '산', True]\n",
      "True\n",
      "산\n"
     ]
    }
   ],
   "source": [
    "# 리스트[:]의 사용법\n",
    "li1 = [1, '산', True]\n",
    "print(li1[0])\n",
    "print(li1[0:2]) # a:b a부터b까지\n",
    "print(li1[:2]) # :b b까지\n",
    "print(li1[:]) #처음부터 끝까지\n",
    "print(li1[-1]) #마지막부터 카운드\n",
    "print(li1[-2]) #마지막부터 카운드"
   ]
  },
  {
   "cell_type": "code",
   "execution_count": 116,
   "id": "9cc073b8",
   "metadata": {},
   "outputs": [
    {
     "name": "stdout",
     "output_type": "stream",
     "text": [
      "1\n",
      "(1, '강')\n",
      "(1, '강')\n",
      "(1, '강', True)\n",
      "True\n",
      "강\n"
     ]
    }
   ],
   "source": [
    "# 튜플[:]의 사용법\n",
    "print(tu1[0])\n",
    "print(tu1[0:2]) # a:b a부터b까지\n",
    "print(tu1[:2]) # :b b까지\n",
    "print(tu1[:]) #처음부터 끝까지\n",
    "print(tu1[-1]) #마지막부터 카운드\n",
    "print(tu1[-2]) #마지막부터 카운드"
   ]
  },
  {
   "cell_type": "code",
   "execution_count": 194,
   "id": "1561490d",
   "metadata": {},
   "outputs": [
    {
     "name": "stdout",
     "output_type": "stream",
     "text": [
      "1산True\n",
      "1강True\n",
      "문자열이다"
     ]
    }
   ],
   "source": [
    "# for i in 리스트/튜플/문자열/딕셔너리\n",
    "\n",
    "# for i in 리스트\n",
    "for i in li1:\n",
    "    print(i, end=\"\")\n",
    "print()\n",
    "    \n",
    "# for i in 튜플\n",
    "for i in tu1:\n",
    "    print(i, end=\"\")\n",
    "print()\n",
    "    \n",
    "# for i in 문자열\n",
    "for i in str1:\n",
    "    print(i, end=\"\")"
   ]
  },
  {
   "cell_type": "code",
   "execution_count": 153,
   "id": "9963cb28",
   "metadata": {},
   "outputs": [
    {
     "name": "stdout",
     "output_type": "stream",
     "text": [
      "55\n"
     ]
    }
   ],
   "source": [
    "tot = 0\n",
    "for i in range(1, 10+1):\n",
    "    tot=tot+i\n",
    "print(tot)"
   ]
  },
  {
   "cell_type": "code",
   "execution_count": 156,
   "id": "745d6134",
   "metadata": {},
   "outputs": [
    {
     "name": "stdout",
     "output_type": "stream",
     "text": [
      "Help on built-in function print in module builtins:\n",
      "\n",
      "print(...)\n",
      "    print(value, ..., sep=' ', end='\\n', file=sys.stdout, flush=False)\n",
      "    \n",
      "    Prints the values to a stream, or to sys.stdout by default.\n",
      "    Optional keyword arguments:\n",
      "    file:  a file-like object (stream); defaults to the current sys.stdout.\n",
      "    sep:   string inserted between values, default a space.\n",
      "    end:   string appended after the last value, default a newline.\n",
      "    flush: whether to forcibly flush the stream.\n",
      "\n"
     ]
    }
   ],
   "source": [
    "help(print)"
   ]
  },
  {
   "cell_type": "code",
   "execution_count": 166,
   "id": "6e5d378a",
   "metadata": {},
   "outputs": [
    {
     "name": "stdout",
     "output_type": "stream",
     "text": [
      "월 화 수\n",
      "월,화,수\n",
      "문자열이다"
     ]
    }
   ],
   "source": [
    "# seperator 사이구분자\n",
    "\n",
    "print(\"월\", \"화\", \"수\")\n",
    "print(\"월\", \"화\", \"수\", sep=',')\n",
    "\n",
    "for i in str1:\n",
    "    print(i, end='')"
   ]
  },
  {
   "cell_type": "code",
   "execution_count": 167,
   "id": "18f3b5ad",
   "metadata": {},
   "outputs": [
    {
     "name": "stdout",
     "output_type": "stream",
     "text": [
      "***\n",
      "***\n",
      "***\n"
     ]
    }
   ],
   "source": [
    "for i in range(3):\n",
    "    for j in range(3):\n",
    "        print(\"*\", end='')\n",
    "    print()"
   ]
  },
  {
   "cell_type": "code",
   "execution_count": 187,
   "id": "b86e9f9a",
   "metadata": {},
   "outputs": [
    {
     "name": "stdout",
     "output_type": "stream",
     "text": [
      "1 * 1 = 1   1 * 2 = 2   1 * 3 = 3   1 * 4 = 4   1 * 5 = 5   1 * 6 = 6   1 * 7 = 7   1 * 8 = 8   1 * 9 = 9   \n",
      "2 * 1 = 2   2 * 2 = 4   2 * 3 = 6   2 * 4 = 8   2 * 5 = 10   2 * 6 = 12   2 * 7 = 14   2 * 8 = 16   2 * 9 = 18   \n",
      "3 * 1 = 3   3 * 2 = 6   3 * 3 = 9   3 * 4 = 12   3 * 5 = 15   3 * 6 = 18   3 * 7 = 21   3 * 8 = 24   3 * 9 = 27   \n"
     ]
    }
   ],
   "source": [
    "for i in range(1,3+1):\n",
    "    for j in range(1,9+1):\n",
    "        print(i,\"*\",j,\"=\", i*j, end='   ')\n",
    "    print()"
   ]
  },
  {
   "cell_type": "code",
   "execution_count": null,
   "id": "e4d86694",
   "metadata": {},
   "outputs": [],
   "source": []
  }
 ],
 "metadata": {
  "kernelspec": {
   "display_name": "Python 3 (ipykernel)",
   "language": "python",
   "name": "python3"
  },
  "language_info": {
   "codemirror_mode": {
    "name": "ipython",
    "version": 3
   },
   "file_extension": ".py",
   "mimetype": "text/x-python",
   "name": "python",
   "nbconvert_exporter": "python",
   "pygments_lexer": "ipython3",
   "version": "3.9.13"
  }
 },
 "nbformat": 4,
 "nbformat_minor": 5
}
