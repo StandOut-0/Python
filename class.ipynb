{
 "cells": [
  {
   "cell_type": "code",
   "execution_count": 8,
   "id": "6c859b3f",
   "metadata": {},
   "outputs": [
    {
     "name": "stdout",
     "output_type": "stream",
     "text": [
      "<class '__main__.Calc'>\n",
      "<class 'type'>\n",
      "<__main__.Calc object at 0x000002079340EC40>\n",
      "<bound method Calc.add of <__main__.Calc object at 0x000002079340EC40>>\n"
     ]
    },
    {
     "ename": "TypeError",
     "evalue": "add() takes 2 positional arguments but 3 were given",
     "output_type": "error",
     "traceback": [
      "\u001b[1;31m---------------------------------------------------------------------------\u001b[0m",
      "\u001b[1;31mTypeError\u001b[0m                                 Traceback (most recent call last)",
      "\u001b[1;32m~\\AppData\\Local\\Temp\\ipykernel_26264\\1150427759.py\u001b[0m in \u001b[0;36m<module>\u001b[1;34m\u001b[0m\n\u001b[0;32m     10\u001b[0m \u001b[0mprint\u001b[0m\u001b[1;33m(\u001b[0m\u001b[0mcalc\u001b[0m\u001b[1;33m)\u001b[0m\u001b[1;33m\u001b[0m\u001b[1;33m\u001b[0m\u001b[0m\n\u001b[0;32m     11\u001b[0m \u001b[0mprint\u001b[0m\u001b[1;33m(\u001b[0m\u001b[0mcalc\u001b[0m\u001b[1;33m.\u001b[0m\u001b[0madd\u001b[0m\u001b[1;33m)\u001b[0m\u001b[1;33m\u001b[0m\u001b[1;33m\u001b[0m\u001b[0m\n\u001b[1;32m---> 12\u001b[1;33m \u001b[0mprint\u001b[0m\u001b[1;33m(\u001b[0m\u001b[0mcalc\u001b[0m\u001b[1;33m.\u001b[0m\u001b[0madd\u001b[0m\u001b[1;33m(\u001b[0m\u001b[1;36m2\u001b[0m\u001b[1;33m,\u001b[0m \u001b[1;36m3\u001b[0m\u001b[1;33m)\u001b[0m\u001b[1;33m)\u001b[0m\u001b[1;33m\u001b[0m\u001b[1;33m\u001b[0m\u001b[0m\n\u001b[0m",
      "\u001b[1;31mTypeError\u001b[0m: add() takes 2 positional arguments but 3 were given"
     ]
    }
   ],
   "source": [
    "class Calc:\n",
    "    #pass\n",
    "    def add(num1, num2):\n",
    "        return num1+num2\n",
    "    \n",
    "print(Calc)\n",
    "print(type(Calc)) #type이 type으로 나오면 그건 class.\n",
    "\n",
    "calc = Calc()\n",
    "print(calc)\n",
    "\n",
    "print(calc.add)\n",
    "print(calc.add(2, 3)) #add() takes 2 positional arguments but 3 were given"
   ]
  },
  {
   "cell_type": "code",
   "execution_count": 13,
   "id": "46f23e51",
   "metadata": {},
   "outputs": [
    {
     "data": {
      "text/plain": [
       "5"
      ]
     },
     "execution_count": 13,
     "metadata": {},
     "output_type": "execute_result"
    }
   ],
   "source": [
    "class Calc:\n",
    "    #pass\n",
    "    def add(self,num1, num2): #자바에서 this가 파이썬에서 self, 함수정의시 무조건  self를 넣어라.\n",
    "        return num1+num2\n",
    "    \n",
    "calc = Calc()\n",
    "calc.add(2,3)"
   ]
  },
  {
   "cell_type": "code",
   "execution_count": 21,
   "id": "798af4c8",
   "metadata": {},
   "outputs": [
    {
     "name": "stdout",
     "output_type": "stream",
     "text": [
      "2\n",
      "3\n",
      "5\n"
     ]
    }
   ],
   "source": [
    "class Calc2:\n",
    "    #pass\n",
    "    def __init__(self, num1, num2): #정의\n",
    "        self.num1 = num1\n",
    "        self.num2 = num2\n",
    "    def add(self): #자바에서 this가 파이썬에서 self, 함수정의시 무조건  self를 넣어라.\n",
    "        return self.num1+self.num2\n",
    "calc2 = Calc2(2, 3)\n",
    "print(calc2.num1)\n",
    "print(calc2.num2)\n",
    "print(calc2.add())"
   ]
  },
  {
   "cell_type": "code",
   "execution_count": 31,
   "id": "7b815a5b",
   "metadata": {},
   "outputs": [
    {
     "name": "stdout",
     "output_type": "stream",
     "text": [
      "5\n",
      "-1\n",
      "6\n",
      "0.6666666666666666\n"
     ]
    }
   ],
   "source": [
    "class Calc2:\n",
    "    #pass\n",
    "    def __init__(self, num1, num2): #정의\n",
    "        self.num1 = num1\n",
    "        self.num2 = num2\n",
    "    def add(self):\n",
    "        return self.num1+self.num2\n",
    "    def miu(self):\n",
    "        return self.num1-self.num2\n",
    "    def mul(self):\n",
    "        return self.num1*self.num2\n",
    "    def dev(self):\n",
    "        return self.num1/self.num2\n",
    "calc2 = Calc2(2, 3)\n",
    "print(calc2.add())\n",
    "print(calc2.miu())\n",
    "print(calc2.mul())\n",
    "print(calc2.dev())"
   ]
  },
  {
   "cell_type": "code",
   "execution_count": 63,
   "id": "d2ebc0fb",
   "metadata": {},
   "outputs": [
    {
     "name": "stdout",
     "output_type": "stream",
     "text": [
      "8\n"
     ]
    }
   ],
   "source": [
    "#class의 상속\n",
    "class Calc3(Calc2):\n",
    "    def zegob(self):\n",
    "        return self.num1**self.num2\n",
    "calc3 = Calc3(2, 3)\n",
    "print(calc3.zegob())"
   ]
  },
  {
   "cell_type": "code",
   "execution_count": 30,
   "id": "983cdcfd",
   "metadata": {},
   "outputs": [
    {
     "name": "stdout",
     "output_type": "stream",
     "text": [
      "나는박상희\n"
     ]
    }
   ],
   "source": [
    "class Sanghee:\n",
    "    def __init__(self, str1, str2):\n",
    "        self.str1=str1\n",
    "        self.str2=str2\n",
    "    def me(self):\n",
    "        return self.str1+self.str2\n",
    "sanghee = Sanghee(\"나는\",\"박상희\")\n",
    "print(sanghee.me())"
   ]
  },
  {
   "cell_type": "code",
   "execution_count": 25,
   "id": "aa2829b7",
   "metadata": {},
   "outputs": [
    {
     "name": "stdout",
     "output_type": "stream",
     "text": [
      "나는박상희\n"
     ]
    }
   ],
   "source": [
    "class Sanghee:\n",
    "    def me(self, str1, str2):\n",
    "        return str1+str2\n",
    "sanghee = Sanghee()\n",
    "print(sanghee.me(\"나는\",\"박상희\"))"
   ]
  },
  {
   "cell_type": "code",
   "execution_count": 69,
   "id": "6118162f",
   "metadata": {},
   "outputs": [
    {
     "name": "stdout",
     "output_type": "stream",
     "text": [
      "박상희\n",
      "박상희\n"
     ]
    }
   ],
   "source": [
    "class Park:\n",
    "    def __init__(self, str1, str2):\n",
    "        self.str1 = str1\n",
    "        self.str2 = str2\n",
    "    def name1(self):\n",
    "        return self.str1+self.str2\n",
    "    \n",
    "    def name2(self, str1,str2 ):\n",
    "        return str1+str2\n",
    "    \n",
    "parksanghee = Park(\"박\", \"상희\")\n",
    "print(parksanghee.name1())\n",
    "print(parksanghee.name2(\"박\", \"상희\"))"
   ]
  }
 ],
 "metadata": {
  "kernelspec": {
   "display_name": "Python 3 (ipykernel)",
   "language": "python",
   "name": "python3"
  },
  "language_info": {
   "codemirror_mode": {
    "name": "ipython",
    "version": 3
   },
   "file_extension": ".py",
   "mimetype": "text/x-python",
   "name": "python",
   "nbconvert_exporter": "python",
   "pygments_lexer": "ipython3",
   "version": "3.9.13"
  }
 },
 "nbformat": 4,
 "nbformat_minor": 5
}
