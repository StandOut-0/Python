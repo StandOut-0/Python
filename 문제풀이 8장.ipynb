{
 "cells": [
  {
   "cell_type": "code",
   "execution_count": 1,
   "id": "58050202",
   "metadata": {},
   "outputs": [
    {
     "name": "stdout",
     "output_type": "stream",
     "text": [
      "P\n",
      "y\n",
      "ho\n",
      "hon\n"
     ]
    }
   ],
   "source": [
    "# 1. 문자열을 추출하는 코드이다. 출력되는 내용을 예측하시오. \n",
    "ss='Python'\n",
    "print(ss[0]) #p\n",
    "print(ss[1:2]) #y\n",
    "print(ss[-3:-1]) #ho\n",
    "print(ss[3:]) #hon"
   ]
  },
  {
   "cell_type": "code",
   "execution_count": 19,
   "id": "79a2822b",
   "metadata": {},
   "outputs": [],
   "source": [
    "# 2. 다음과 같은 문자열이 있을 때 오류가 발생하는 것을 모두 고르시오. \n",
    "ss1='Python'\n",
    "ss2='Good'\n",
    "\n",
    "# ss1 + ss2\n",
    "# ss1 - ss2 뭘 어케 빼란거임\n",
    "# ss1 * 3\n",
    "# ss1 / ss2 뭘 어케 나누란거임"
   ]
  },
  {
   "cell_type": "code",
   "execution_count": 31,
   "id": "91261775",
   "metadata": {},
   "outputs": [
    {
     "name": "stdout",
     "output_type": "stream",
     "text": [
      "P$y$t$h$o$n$"
     ]
    }
   ],
   "source": [
    "# 3. 문자열의 중간마다 #을 끼워넣는 코드이다. 빈 부분을 채우시오. \n",
    "ss='Python'\n",
    "len(ss)\n",
    "for i in range(0, len(ss)):\n",
    "    \n",
    "    if(i < len(ss)):\n",
    "        print(ss[i]+'$', end='')\n",
    "    elif(i == len(ss)):\n",
    "        print(ss[i]+'', end='')"
   ]
  },
  {
   "cell_type": "code",
   "execution_count": 37,
   "id": "12dede87",
   "metadata": {},
   "outputs": [
    {
     "data": {
      "text/plain": [
       "'P-y-t-h-o-n'"
      ]
     },
     "execution_count": 37,
     "metadata": {},
     "output_type": "execute_result"
    }
   ],
   "source": [
    "# 문자열 함수 join replace split\n",
    "'-'.join(ss) # ''P-y-t-h-o-n'"
   ]
  },
  {
   "cell_type": "code",
   "execution_count": 38,
   "id": "870a0a6a",
   "metadata": {},
   "outputs": [
    {
     "data": {
      "text/plain": [
       "'Pytho!'"
      ]
     },
     "execution_count": 38,
     "metadata": {},
     "output_type": "execute_result"
    }
   ],
   "source": [
    "ss.replace('n','!')"
   ]
  },
  {
   "cell_type": "code",
   "execution_count": 46,
   "id": "c148b5aa",
   "metadata": {},
   "outputs": [
    {
     "name": "stdout",
     "output_type": "stream",
     "text": [
      "['Py!', 'tho:', ',n']\n",
      "['Py! tho: ', 'n']\n",
      "['Py! tho', ' ,n']\n",
      "['Py', ' tho: ,n']\n"
     ]
    }
   ],
   "source": [
    "ss = 'Py! tho: ,n'\n",
    "strings1 = text.split()\n",
    "print(strings1)\n",
    "\n",
    "strings2 = text.split(',')\n",
    "print(strings2)\n",
    "\n",
    "strings3 = text.split(':')\n",
    "print(strings3)\n",
    "\n",
    "strings4 = text.split('!')\n",
    "print(strings4)"
   ]
  },
  {
   "cell_type": "code",
   "execution_count": 32,
   "id": "5ed22a88",
   "metadata": {},
   "outputs": [
    {
     "name": "stdout",
     "output_type": "stream",
     "text": [
      "내용을 거꾸로 출력 하면 nohtyP\n"
     ]
    }
   ],
   "source": [
    "# 4. 문자열을 반대의 순서로 출력하는 프로그램이다. 빈 곳을 채우시오.\n",
    "inStr, outStr = \"Python\", \"\"\n",
    "strLen = len(inStr)\n",
    "\n",
    "for i in range(0, strLen):\n",
    "#     print(inStr[i], strLen, i, strLen-i-1)\n",
    "#     print(inStr[strLen-i-1])\n",
    "    outStr += inStr[strLen-i-1]\n",
    "print(\"내용을 거꾸로 출력 하면 %s\"%outStr)\n"
   ]
  },
  {
   "cell_type": "code",
   "execution_count": 38,
   "id": "5acfcb8b",
   "metadata": {},
   "outputs": [],
   "source": [
    "# 5. 다음 각 문자열 함수의 결과를 예측하시오.\n",
    "myStr = 'Hanbit'\n",
    "# myStr.upper()\n",
    "# myStr.lower()\n",
    "# myStr.swapcase() #글세? swapcase? 작은 윗글자? 아 반대로 출력하는구나\n",
    "myStr.title();"
   ]
  },
  {
   "cell_type": "code",
   "execution_count": 51,
   "id": "96820667",
   "metadata": {},
   "outputs": [
    {
     "data": {
      "text/plain": [
       "7"
      ]
     },
     "execution_count": 51,
     "metadata": {},
     "output_type": "execute_result"
    }
   ],
   "source": [
    "# 6. 다음 각 문자열 함수의 결과를 예측하시오. \n",
    "myStr = 'Hanbit Media, Hanbit Academy, Hanbit Life'\n",
    "# myStr.count('Hanbit')\n",
    "# myStr.find('Hanbit', 2) #2번째 Hanbit의 숫자를 구하라 14\n",
    "myStr.rindex('Media')# 마지막 Media의 위치 7\n",
    "# myStr.startswith('Hanbit')#Hanbit으로 시작하는지 여부 true"
   ]
  },
  {
   "cell_type": "code",
   "execution_count": 59,
   "id": "3e9a884e",
   "metadata": {},
   "outputs": [
    {
     "name": "stdout",
     "output_type": "stream",
     "text": [
      "IT CookBook  파이썬\n"
     ]
    }
   ],
   "source": [
    "# 7. 입력된 문자열 중에서 숫자를 제거하는 프로그램을 작성하자.\n",
    "# 예) 문자열 --> IT CookBook 1234 파이썬\n",
    "#     숫자 제거 --> IT CookBook 파이썬\n",
    "str = \"IT CookBook 1234 파이썬\"\n",
    "out = \"\"\n",
    "\n",
    "for i in str:\n",
    "    if i.isdigit() == False:\n",
    "        out += i;\n",
    "print(out)        "
   ]
  },
  {
   "cell_type": "code",
   "execution_count": 23,
   "id": "51c8859e",
   "metadata": {},
   "outputs": [
    {
     "name": "stdout",
     "output_type": "stream",
     "text": [
      "기\n",
      "대문자 0 개\n",
      "소문자 0 개\n",
      "숫자 0 개\n",
      "한글 1 개\n",
      "기타 0 개\n"
     ]
    }
   ],
   "source": [
    "# 8. 입력한 문자열에서 숫자, 영문 소문자, 영문 대문자, 한글, 기타 문자의 개수를 세는 프로그램을 작성하자.\n",
    "str1 = input()\n",
    "# str1 = \"IT CookBook 파이썬을 공부하고 있습니다. ^___^\"\n",
    "strLen = len(list(str1))\n",
    "ord(str1[0])\n",
    "\n",
    "totA = 0;\n",
    "tota = 0;\n",
    "totk = 0;\n",
    "tot0 = 0;\n",
    "tote = 0;\n",
    "\n",
    "# 테스트\n",
    "for i in range(strLen):\n",
    "    if chr(ord(str1[i])) >= 'A' and chr(ord(str1[i]))<='Z':\n",
    "        totA +=1\n",
    "    elif chr(ord(str1[i])) >= 'a' and chr(ord(str1[i]))<='z':\n",
    "        tota +=1\n",
    "    elif chr(ord(str1[i])) >= '0' and chr(ord(str1[i]))<='9':\n",
    "        tot0 +=1\n",
    "    elif chr(ord(str1[i])) >= 'ㄱ' and chr(ord(str1[i]))<='힣':\n",
    "        totk +=1\n",
    "    else:\n",
    "        tote +=1\n",
    "          \n",
    "print(\"대문자\", totA ,\"개\");\n",
    "print(\"소문자\", tota ,\"개\"); \n",
    "print(\"숫자\", tot0 ,\"개\");     \n",
    "print(\"한글\", totk ,\"개\");\n",
    "print(\"기타\", tote ,\"개\");"
   ]
  },
  {
   "cell_type": "code",
   "execution_count": null,
   "id": "f4b994ea",
   "metadata": {},
   "outputs": [],
   "source": []
  },
  {
   "cell_type": "code",
   "execution_count": null,
   "id": "83220d0d",
   "metadata": {},
   "outputs": [],
   "source": []
  }
 ],
 "metadata": {
  "kernelspec": {
   "display_name": "Python 3 (ipykernel)",
   "language": "python",
   "name": "python3"
  },
  "language_info": {
   "codemirror_mode": {
    "name": "ipython",
    "version": 3
   },
   "file_extension": ".py",
   "mimetype": "text/x-python",
   "name": "python",
   "nbconvert_exporter": "python",
   "pygments_lexer": "ipython3",
   "version": "3.9.13"
  }
 },
 "nbformat": 4,
 "nbformat_minor": 5
}
