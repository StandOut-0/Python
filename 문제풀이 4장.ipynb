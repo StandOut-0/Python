{
 "cells": [
  {
   "cell_type": "code",
   "execution_count": 1,
   "id": "76f28e8e",
   "metadata": {},
   "outputs": [
    {
     "name": "stdout",
     "output_type": "stream",
     "text": [
      "00543\n",
      "       파이썬\n",
      "123.5 \n"
     ]
    }
   ],
   "source": [
    "print(\"%05d\"% 543)\n",
    "print(\"%10s\" % \"파이썬\") \n",
    "print(\"%1.1f \" % 123.45) "
   ]
  },
  {
   "cell_type": "code",
   "execution_count": 133,
   "id": "44688cc1",
   "metadata": {},
   "outputs": [
    {
     "name": "stdout",
     "output_type": "stream",
     "text": [
      "\t 안녕\n",
      "\\ 안녕\n",
      "\\ 안녕\n",
      "\\\\ 안녕\n"
     ]
    }
   ],
   "source": [
    "print(\"\\t 안녕\")\n",
    "print(\"\\ 안녕\")\n",
    "print(\"\\\\ 안녕\")\n",
    "print(\"\\\\\\ 안녕\")"
   ]
  },
  {
   "cell_type": "code",
   "execution_count": 4,
   "id": "6472a871",
   "metadata": {},
   "outputs": [
    {
     "name": "stdout",
     "output_type": "stream",
     "text": [
      "3\n",
      "17\n",
      "15\n"
     ]
    }
   ],
   "source": [
    "print(0b0011) #2진수로 변환\n",
    "print(0x11) #16진수로 변환\n",
    "print(0o17) #8진수로 변환"
   ]
  },
  {
   "cell_type": "code",
   "execution_count": 144,
   "id": "c0ea095e",
   "metadata": {},
   "outputs": [
    {
     "name": "stdout",
     "output_type": "stream",
     "text": [
      "Help on class int in module builtins:\n",
      "\n",
      "class int(object)\n",
      " |  int([x]) -> integer\n",
      " |  int(x, base=10) -> integer\n",
      " |  \n",
      " |  Convert a number or string to an integer, or return 0 if no arguments\n",
      " |  are given.  If x is a number, return x.__int__().  For floating point\n",
      " |  numbers, this truncates towards zero.\n",
      " |  \n",
      " |  If x is not a number or if base is given, then x must be a string,\n",
      " |  bytes, or bytearray instance representing an integer literal in the\n",
      " |  given base.  The literal can be preceded by '+' or '-' and be surrounded\n",
      " |  by whitespace.  The base defaults to 10.  Valid bases are 0 and 2-36.\n",
      " |  Base 0 means to interpret the base from the string as an integer literal.\n",
      " |  >>> int('0b100', base=0)\n",
      " |  4\n",
      " |  \n",
      " |  Built-in subclasses:\n",
      " |      bool\n",
      " |  \n",
      " |  Methods defined here:\n",
      " |  \n",
      " |  __abs__(self, /)\n",
      " |      abs(self)\n",
      " |  \n",
      " |  __add__(self, value, /)\n",
      " |      Return self+value.\n",
      " |  \n",
      " |  __and__(self, value, /)\n",
      " |      Return self&value.\n",
      " |  \n",
      " |  __bool__(self, /)\n",
      " |      True if self else False\n",
      " |  \n",
      " |  __ceil__(...)\n",
      " |      Ceiling of an Integral returns itself.\n",
      " |  \n",
      " |  __divmod__(self, value, /)\n",
      " |      Return divmod(self, value).\n",
      " |  \n",
      " |  __eq__(self, value, /)\n",
      " |      Return self==value.\n",
      " |  \n",
      " |  __float__(self, /)\n",
      " |      float(self)\n",
      " |  \n",
      " |  __floor__(...)\n",
      " |      Flooring an Integral returns itself.\n",
      " |  \n",
      " |  __floordiv__(self, value, /)\n",
      " |      Return self//value.\n",
      " |  \n",
      " |  __format__(self, format_spec, /)\n",
      " |      Default object formatter.\n",
      " |  \n",
      " |  __ge__(self, value, /)\n",
      " |      Return self>=value.\n",
      " |  \n",
      " |  __getattribute__(self, name, /)\n",
      " |      Return getattr(self, name).\n",
      " |  \n",
      " |  __getnewargs__(self, /)\n",
      " |  \n",
      " |  __gt__(self, value, /)\n",
      " |      Return self>value.\n",
      " |  \n",
      " |  __hash__(self, /)\n",
      " |      Return hash(self).\n",
      " |  \n",
      " |  __index__(self, /)\n",
      " |      Return self converted to an integer, if self is suitable for use as an index into a list.\n",
      " |  \n",
      " |  __int__(self, /)\n",
      " |      int(self)\n",
      " |  \n",
      " |  __invert__(self, /)\n",
      " |      ~self\n",
      " |  \n",
      " |  __le__(self, value, /)\n",
      " |      Return self<=value.\n",
      " |  \n",
      " |  __lshift__(self, value, /)\n",
      " |      Return self<<value.\n",
      " |  \n",
      " |  __lt__(self, value, /)\n",
      " |      Return self<value.\n",
      " |  \n",
      " |  __mod__(self, value, /)\n",
      " |      Return self%value.\n",
      " |  \n",
      " |  __mul__(self, value, /)\n",
      " |      Return self*value.\n",
      " |  \n",
      " |  __ne__(self, value, /)\n",
      " |      Return self!=value.\n",
      " |  \n",
      " |  __neg__(self, /)\n",
      " |      -self\n",
      " |  \n",
      " |  __or__(self, value, /)\n",
      " |      Return self|value.\n",
      " |  \n",
      " |  __pos__(self, /)\n",
      " |      +self\n",
      " |  \n",
      " |  __pow__(self, value, mod=None, /)\n",
      " |      Return pow(self, value, mod).\n",
      " |  \n",
      " |  __radd__(self, value, /)\n",
      " |      Return value+self.\n",
      " |  \n",
      " |  __rand__(self, value, /)\n",
      " |      Return value&self.\n",
      " |  \n",
      " |  __rdivmod__(self, value, /)\n",
      " |      Return divmod(value, self).\n",
      " |  \n",
      " |  __repr__(self, /)\n",
      " |      Return repr(self).\n",
      " |  \n",
      " |  __rfloordiv__(self, value, /)\n",
      " |      Return value//self.\n",
      " |  \n",
      " |  __rlshift__(self, value, /)\n",
      " |      Return value<<self.\n",
      " |  \n",
      " |  __rmod__(self, value, /)\n",
      " |      Return value%self.\n",
      " |  \n",
      " |  __rmul__(self, value, /)\n",
      " |      Return value*self.\n",
      " |  \n",
      " |  __ror__(self, value, /)\n",
      " |      Return value|self.\n",
      " |  \n",
      " |  __round__(...)\n",
      " |      Rounding an Integral returns itself.\n",
      " |      Rounding with an ndigits argument also returns an integer.\n",
      " |  \n",
      " |  __rpow__(self, value, mod=None, /)\n",
      " |      Return pow(value, self, mod).\n",
      " |  \n",
      " |  __rrshift__(self, value, /)\n",
      " |      Return value>>self.\n",
      " |  \n",
      " |  __rshift__(self, value, /)\n",
      " |      Return self>>value.\n",
      " |  \n",
      " |  __rsub__(self, value, /)\n",
      " |      Return value-self.\n",
      " |  \n",
      " |  __rtruediv__(self, value, /)\n",
      " |      Return value/self.\n",
      " |  \n",
      " |  __rxor__(self, value, /)\n",
      " |      Return value^self.\n",
      " |  \n",
      " |  __sizeof__(self, /)\n",
      " |      Returns size in memory, in bytes.\n",
      " |  \n",
      " |  __sub__(self, value, /)\n",
      " |      Return self-value.\n",
      " |  \n",
      " |  __truediv__(self, value, /)\n",
      " |      Return self/value.\n",
      " |  \n",
      " |  __trunc__(...)\n",
      " |      Truncating an Integral returns itself.\n",
      " |  \n",
      " |  __xor__(self, value, /)\n",
      " |      Return self^value.\n",
      " |  \n",
      " |  as_integer_ratio(self, /)\n",
      " |      Return integer ratio.\n",
      " |      \n",
      " |      Return a pair of integers, whose ratio is exactly equal to the original int\n",
      " |      and with a positive denominator.\n",
      " |      \n",
      " |      >>> (10).as_integer_ratio()\n",
      " |      (10, 1)\n",
      " |      >>> (-10).as_integer_ratio()\n",
      " |      (-10, 1)\n",
      " |      >>> (0).as_integer_ratio()\n",
      " |      (0, 1)\n",
      " |  \n",
      " |  bit_length(self, /)\n",
      " |      Number of bits necessary to represent self in binary.\n",
      " |      \n",
      " |      >>> bin(37)\n",
      " |      '0b100101'\n",
      " |      >>> (37).bit_length()\n",
      " |      6\n",
      " |  \n",
      " |  conjugate(...)\n",
      " |      Returns self, the complex conjugate of any int.\n",
      " |  \n",
      " |  to_bytes(self, /, length, byteorder, *, signed=False)\n",
      " |      Return an array of bytes representing an integer.\n",
      " |      \n",
      " |      length\n",
      " |        Length of bytes object to use.  An OverflowError is raised if the\n",
      " |        integer is not representable with the given number of bytes.\n",
      " |      byteorder\n",
      " |        The byte order used to represent the integer.  If byteorder is 'big',\n",
      " |        the most significant byte is at the beginning of the byte array.  If\n",
      " |        byteorder is 'little', the most significant byte is at the end of the\n",
      " |        byte array.  To request the native byte order of the host system, use\n",
      " |        `sys.byteorder' as the byte order value.\n",
      " |      signed\n",
      " |        Determines whether two's complement is used to represent the integer.\n",
      " |        If signed is False and a negative integer is given, an OverflowError\n",
      " |        is raised.\n",
      " |  \n",
      " |  ----------------------------------------------------------------------\n",
      " |  Class methods defined here:\n",
      " |  \n",
      " |  from_bytes(bytes, byteorder, *, signed=False) from builtins.type\n",
      " |      Return the integer represented by the given array of bytes.\n",
      " |      \n",
      " |      bytes\n",
      " |        Holds the array of bytes to convert.  The argument must either\n",
      " |        support the buffer protocol or be an iterable object producing bytes.\n",
      " |        Bytes and bytearray are examples of built-in objects that support the\n",
      " |        buffer protocol.\n",
      " |      byteorder\n",
      " |        The byte order used to represent the integer.  If byteorder is 'big',\n",
      " |        the most significant byte is at the beginning of the byte array.  If\n",
      " |        byteorder is 'little', the most significant byte is at the end of the\n",
      " |        byte array.  To request the native byte order of the host system, use\n",
      " |        `sys.byteorder' as the byte order value.\n",
      " |      signed\n",
      " |        Indicates whether two's complement is used to represent the integer.\n",
      " |  \n",
      " |  ----------------------------------------------------------------------\n",
      " |  Static methods defined here:\n",
      " |  \n",
      " |  __new__(*args, **kwargs) from builtins.type\n",
      " |      Create and return a new object.  See help(type) for accurate signature.\n",
      " |  \n",
      " |  ----------------------------------------------------------------------\n",
      " |  Data descriptors defined here:\n",
      " |  \n",
      " |  denominator\n",
      " |      the denominator of a rational number in lowest terms\n",
      " |  \n",
      " |  imag\n",
      " |      the imaginary part of a complex number\n",
      " |  \n",
      " |  numerator\n",
      " |      the numerator of a rational number in lowest terms\n",
      " |  \n",
      " |  real\n",
      " |      the real part of a complex number\n",
      "\n"
     ]
    }
   ],
   "source": [
    "help(int)"
   ]
  },
  {
   "cell_type": "code",
   "execution_count": 151,
   "id": "3db42e6c",
   "metadata": {},
   "outputs": [
    {
     "name": "stdout",
     "output_type": "stream",
     "text": [
      "9\n",
      "519\n",
      "1007\n",
      "4103\n"
     ]
    }
   ],
   "source": [
    "# int('0b100', base=0)\n",
    "print(int('1001', base=2))\n",
    "print(int('1007', base=8))\n",
    "print(int('1007', base=10))\n",
    "print(int('1007', base=16))"
   ]
  },
  {
   "cell_type": "code",
   "execution_count": 155,
   "id": "1e88af0f",
   "metadata": {},
   "outputs": [
    {
     "name": "stdout",
     "output_type": "stream",
     "text": [
      "<class 'int'>\n",
      "<class 'tuple'>\n"
     ]
    }
   ],
   "source": [
    "print(type((10)))\n",
    "print(type((10, 20)))"
   ]
  },
  {
   "cell_type": "code",
   "execution_count": null,
   "id": "467216e1",
   "metadata": {},
   "outputs": [],
   "source": [
    "#1. 다음 중 산술 연산자가 아닌 것을 모두 고르시오. \n",
    "#+ - * ^ ~ / // % ** & ***  ?\n",
    "\n",
    "#뭐지 너무 많은데? \n",
    "# ^ ~ / // ** & ***  ?\n",
    "# 답: ^ ~ & ***  ?"
   ]
  },
  {
   "cell_type": "code",
   "execution_count": 4,
   "id": "090eae7d",
   "metadata": {},
   "outputs": [
    {
     "name": "stdout",
     "output_type": "stream",
     "text": [
      "30\n",
      "-10\n",
      "10\n",
      "0\n"
     ]
    }
   ],
   "source": [
    "#2. 다음 계산식의 결과를 예측하시오. \n",
    "a=10\n",
    "b=20\n",
    "print(a+b)\n",
    "print(a-b)\n",
    "print(a%b)\n",
    "print(a//b) #이게 뭐지? 아 몫?"
   ]
  },
  {
   "cell_type": "code",
   "execution_count": 6,
   "id": "3796959f",
   "metadata": {},
   "outputs": [
    {
     "name": "stdout",
     "output_type": "stream",
     "text": [
      "3\n",
      "-1\n",
      "1.5\n"
     ]
    }
   ],
   "source": [
    "#3. 다음 계산식의 결과를 예측하시오. \n",
    "a, b, c = 1, 2, 3\n",
    "print(a+b%c) #1+2\n",
    "print(a*b-c) #2-3\n",
    "print(a/b*c) # 0.5*3"
   ]
  },
  {
   "cell_type": "code",
   "execution_count": 11,
   "id": "7c22e91c",
   "metadata": {},
   "outputs": [
    {
     "data": {
      "text/plain": [
       "222.22"
      ]
     },
     "execution_count": 11,
     "metadata": {},
     "output_type": "execute_result"
    }
   ],
   "source": [
    "#4. 문자열을 숫자로 변환한 후, 계산하는 식이다. 오류가 발생하는 것을 고르고, 오류가 발생하지 않도록 수정하시오. \n",
    "s1, s2, s3 = \"111\", \"111.11\", \"99999999999999\"\n",
    "int(s1) + 111.11 #111+111.11\n",
    "int(s3) + 111.11 #99999999999999+111.11\n",
    "\n",
    "float(s2) + 111.11 #111+111.11"
   ]
  },
  {
   "cell_type": "code",
   "execution_count": 14,
   "id": "5063e882",
   "metadata": {},
   "outputs": [
    {
     "name": "stdout",
     "output_type": "stream",
     "text": [
      "30\n",
      "10\n",
      "0\n"
     ]
    }
   ],
   "source": [
    "# 5. 대입 연산자의 활용이다. 결과를 예측하시오.\n",
    "a,b = 10,20; a+=b; print(a)\n",
    "a,b = 10,20; a%=b; print(a)\n",
    "a,b = 10,20; a//=b; print(a)"
   ]
  },
  {
   "cell_type": "code",
   "execution_count": null,
   "id": "b5a79f12",
   "metadata": {},
   "outputs": [],
   "source": [
    "#6. 다음 중 논리 연산자가 아닌 것을 모두 고르시오. \n",
    "#and or not nor xor equal\n",
    "\n",
    "#뭐지 헷갈리는데\n",
    "# xor xor\n",
    "\n",
    "# nor xor equal\n",
    "and or not nor xor equal\n",
    "not: not True 반대로 뒤짚다\n"
   ]
  },
  {
   "cell_type": "code",
   "execution_count": 18,
   "id": "d1764927",
   "metadata": {},
   "outputs": [
    {
     "name": "stdout",
     "output_type": "stream",
     "text": [
      "0\n",
      "65535\n",
      "65535\n"
     ]
    }
   ],
   "source": [
    "# 7. 비트 연산자의 활용이다. 결과를 16진수로 예측하시오\n",
    "print(0xFF00 & 0x00FF)\n",
    "print(0xFF00 | 0x00FF)\n",
    "print(0xFF00 ^ 0x00FF)\n",
    "# 이거 계산기 쓰면안대나? 벌써 싫은데"
   ]
  },
  {
   "cell_type": "code",
   "execution_count": 1,
   "id": "629666b1",
   "metadata": {},
   "outputs": [
    {
     "name": "stdout",
     "output_type": "stream",
     "text": [
      "100\n"
     ]
    }
   ],
   "source": [
    "# 8. 비트 시프트 연산자의 활용이다. 결과를 예측하시오. \n",
    "a=100; a=a<<100 ; a=a>>100; print(a)\n",
    "# 모야 그냥 100되자나 원복이니까"
   ]
  },
  {
   "cell_type": "code",
   "execution_count": 4,
   "id": "e42d5550",
   "metadata": {},
   "outputs": [
    {
     "name": "stdout",
     "output_type": "stream",
     "text": [
      "50000 원 1\n",
      "5000 원 1\n",
      "1000 원 1\n",
      "500 원 1\n",
      "100 원 2\n",
      "50 원 1\n",
      "10 원 3\n"
     ]
    }
   ],
   "source": [
    "# 9. 입력한 금액을 5만원, 1만원, 5천원, 1천원, 500원, 100원, 50원, 10원 동전으로 \n",
    "# 교환하는 프로그램의 출력 결과다. 프로그램을 작성해 보자. \n",
    "money = 56789\n",
    "moneylist = [50000, 10000, 5000, 1000, 500, 100, 50, 10]\n",
    "\n",
    "for i in range(8):\n",
    "    if (money > moneylist[i]):\n",
    "        for j in range(money//moneylist[i]):\n",
    "            money = money-(money//moneylist[i])*moneylist[i]\n",
    "        print(moneylist[i],\"원\",j+1)"
   ]
  }
 ],
 "metadata": {
  "kernelspec": {
   "display_name": "Python 3 (ipykernel)",
   "language": "python",
   "name": "python3"
  },
  "language_info": {
   "codemirror_mode": {
    "name": "ipython",
    "version": 3
   },
   "file_extension": ".py",
   "mimetype": "text/x-python",
   "name": "python",
   "nbconvert_exporter": "python",
   "pygments_lexer": "ipython3",
   "version": "3.9.13"
  }
 },
 "nbformat": 4,
 "nbformat_minor": 5
}
