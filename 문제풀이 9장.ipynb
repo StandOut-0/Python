{
 "cells": [
  {
   "cell_type": "code",
   "execution_count": null,
   "id": "47390293",
   "metadata": {},
   "outputs": [],
   "source": [
    "# 1. 다음 중 함수의 설명 중 맞는 것을 모두 고르자. \n",
    "# ① 한번 만들어 놓으면 호출만 하면 된다.\n",
    "# ② 내부의 작동을 신경쓰지 않는다는 의미로 블랙박스라고도 부른다.\n",
    "# ③ 커피 자판기는 함수의 좋은 비유다.\n",
    "# ④ 함수는 여러 번 호출하는 것보다는 한번만 호출해서 사용하는 것이 효율적이다.\n",
    "\n",
    "# 1, 3"
   ]
  },
  {
   "cell_type": "code",
   "execution_count": 7,
   "id": "271aa5e8",
   "metadata": {},
   "outputs": [
    {
     "data": {
      "text/plain": [
       "3"
      ]
     },
     "execution_count": 7,
     "metadata": {},
     "output_type": "execute_result"
    }
   ],
   "source": [
    "# 2. 두 수를 더해서 결과를 반환하는 함수이다. 빈 부분을 채우시오. \n",
    "def sum(v1, v2):\n",
    "    result = 0\n",
    "    result = v1 + v2\n",
    "    return result\n",
    "sum(1, 2)"
   ]
  },
  {
   "cell_type": "code",
   "execution_count": null,
   "id": "7b8a34bf",
   "metadata": {},
   "outputs": [],
   "source": [
    "# 3. 위 3번의 함수를 호출하는 방법이다. 옳은 것을 하나 고르자. \n",
    "# ① hap = sum()\n",
    "# ② hap = sum(10)\n",
    "# ③ hap = sum (10 20)\n",
    "# ④ hap = sum (10, 20)\n",
    "# (5) hap = sum (10 : 20)\n",
    "4"
   ]
  },
  {
   "cell_type": "code",
   "execution_count": null,
   "id": "ff8bdbd3",
   "metadata": {},
   "outputs": [],
   "source": [
    "# 4. 함수의 반환값과 관련된 내용이다. 틀린 것을 모두 고르자. \n",
    "# ① 함수에는 반환값이 없어도 된다.\n",
    "# ② 함수에서 반환할 수 있는 값의 개수는 1개 뿐이다.\n",
    "# ③ return 문을 사용한다.\n",
    "# ④ 반환값이 없을 때도 retrun문을 써줘야 한다.\n",
    "2,4"
   ]
  },
  {
   "cell_type": "code",
   "execution_count": null,
   "id": "769ce581",
   "metadata": {},
   "outputs": [],
   "source": [
    "# 5. myFunc.py에 fun1(), fun2()가 정의되어 있다고 가정하겠다. 다음 중에서 오류가 발생되는 코드를 모두 고르자. \n",
    "# ① import myFunc.py\n",
    "#    myFunc.fun1()\n",
    "# ② import myFunc\n",
    "#    myFunc.fun1()\n",
    "# ③ from myFunc import fun1()\n",
    "#    fun1()\n",
    "# ④ from myFunc import *\n",
    "#    fun2()\n",
    "\n",
    "# ? 이거 안배운것같은데\n",
    "# 우선.. 1번은 정석이니 될것같고\n",
    "# 2번은 확장자가 없는데 파이썬은 봐줄것같고\n",
    "# 3, 4번"
   ]
  },
  {
   "cell_type": "code",
   "execution_count": 11,
   "id": "8bf69852",
   "metadata": {},
   "outputs": [],
   "source": [
    "# 6. 다음 func() 함수를 호출할 때, 오류가 발생하는 것을 고르자. \n",
    "def func(v1, v2=0, v3=0) :\n",
    "    result = 0\n",
    "    result = v1 + v2 + v3\n",
    "    return result\n",
    "\n",
    "# ① func\n",
    "# ② func(1, 2)\n",
    "# ③ func(0, 0, 0)\n",
    "# ④ func( )\n",
    "# 2? V2랑 V3이 값이 이미 지정되잇는데 너으니까 왠지 오류날것같은데.. 안배운거라 우선 찍음"
   ]
  },
  {
   "cell_type": "code",
   "execution_count": 12,
   "id": "3a694fdb",
   "metadata": {},
   "outputs": [],
   "source": [
    "def multiply(배열이 들어가야대나?):\n",
    "    result = 0;\n",
    "    for i in var:\n",
    "        result = a*num;\n",
    "    return result\n",
    "# 모 어떻게 해야할지 모르겟능데 이건"
   ]
  },
  {
   "cell_type": "code",
   "execution_count": 13,
   "id": "a87bead3",
   "metadata": {},
   "outputs": [
    {
     "name": "stdout",
     "output_type": "stream",
     "text": [
      "222\n",
      "111\n"
     ]
    }
   ],
   "source": [
    "a = 222\n",
    "\n",
    "def func1() :\n",
    "    print(a) #222\n",
    "\n",
    "def func2() :\n",
    "    a = 111    \n",
    "    print(a) #111\n",
    "\n",
    "func1()\n",
    "func2()\n"
   ]
  },
  {
   "cell_type": "code",
   "execution_count": 14,
   "id": "ef573c8d",
   "metadata": {},
   "outputs": [
    {
     "name": "stdout",
     "output_type": "stream",
     "text": [
      "9\n"
     ]
    }
   ],
   "source": [
    "# 9. 다음 코드의 결과는 무엇이 출력되는가?\n",
    "def  myRange(start, end, hop = 1) : #1에서 5까지반복할거다.\n",
    "    retVal = start #retVal는 1이다.\n",
    "    while  retVal <= end : #1 <=5 참\n",
    "        yield retVal #yield가 모지? 소리지르다 이런건가\n",
    "        retVal += hop #아무튼 1+1은 2인데 왠지 yield가 마지막까지 이런건가 메아리.. 모 이런거 그럼 5라치면\n",
    "                      # 1+2+3+4+5가 되는것같다.그러면 15\n",
    "                      # 아니래.,. 검색해봄 걍 우선 무시해바. 그럼 어? 그래도 15인것같은데\n",
    "\n",
    "hap = 0  #어? 근데 hap를 0으로 하래\n",
    "for  i in myRange(1, 5, 2) : #15번 반복할건데\n",
    "    hap += i #? ㅋㅋㅋ yield 얘 모임\n",
    "print(hap)\n"
   ]
  }
 ],
 "metadata": {
  "kernelspec": {
   "display_name": "Python 3 (ipykernel)",
   "language": "python",
   "name": "python3"
  },
  "language_info": {
   "codemirror_mode": {
    "name": "ipython",
    "version": 3
   },
   "file_extension": ".py",
   "mimetype": "text/x-python",
   "name": "python",
   "nbconvert_exporter": "python",
   "pygments_lexer": "ipython3",
   "version": "3.9.13"
  }
 },
 "nbformat": 4,
 "nbformat_minor": 5
}
