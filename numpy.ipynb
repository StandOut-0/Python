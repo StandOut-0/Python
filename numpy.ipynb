{
 "cells": [
  {
   "cell_type": "code",
   "execution_count": 1,
   "id": "62cd911d",
   "metadata": {},
   "outputs": [],
   "source": [
    "import numpy as np"
   ]
  },
  {
   "cell_type": "code",
   "execution_count": 5,
   "id": "7bad8516",
   "metadata": {},
   "outputs": [
    {
     "data": {
      "text/plain": [
       "array([[ 3,  6,  9],\n",
       "       [12, 15, 18],\n",
       "       [21, 24, 27]])"
      ]
     },
     "execution_count": 5,
     "metadata": {},
     "output_type": "execute_result"
    }
   ],
   "source": [
    "np.array([[3, 6, 9],[12, 15, 18], [21, 24, 27]])"
   ]
  },
  {
   "cell_type": "code",
   "execution_count": 7,
   "id": "2ded15bf",
   "metadata": {},
   "outputs": [],
   "source": [
    "data = np.array([[3, 6, 9],[12, 15, 18], [21, 24, 27]])"
   ]
  },
  {
   "cell_type": "code",
   "execution_count": 8,
   "id": "1215a999",
   "metadata": {},
   "outputs": [
    {
     "data": {
      "text/plain": [
       "array([[ 3,  6,  9],\n",
       "       [12, 15, 18],\n",
       "       [21, 24, 27]])"
      ]
     },
     "execution_count": 8,
     "metadata": {},
     "output_type": "execute_result"
    }
   ],
   "source": [
    "data"
   ]
  },
  {
   "cell_type": "code",
   "execution_count": 27,
   "id": "37472587",
   "metadata": {},
   "outputs": [
    {
     "name": "stdout",
     "output_type": "stream",
     "text": [
      "15\n",
      "15\n",
      "[15 18]\n",
      "[15 18]\n"
     ]
    }
   ],
   "source": [
    "#값 출력해보기\n",
    "print(data[1][1])\n",
    "print(data[1,1])\n",
    "\n",
    "print(data[1][1:3])\n",
    "print(data[1, [1, 2]])"
   ]
  },
  {
   "cell_type": "code",
   "execution_count": 24,
   "id": "13b2519d",
   "metadata": {},
   "outputs": [
    {
     "data": {
      "text/plain": [
       "array([15, 18])"
      ]
     },
     "execution_count": 24,
     "metadata": {},
     "output_type": "execute_result"
    }
   ],
   "source": [
    "data[1, [1, 2]]"
   ]
  },
  {
   "cell_type": "code",
   "execution_count": 33,
   "id": "8f2e268e",
   "metadata": {},
   "outputs": [
    {
     "data": {
      "text/plain": [
       "array([[12, 15, 18],\n",
       "       [21, 24, 27]])"
      ]
     },
     "execution_count": 33,
     "metadata": {},
     "output_type": "execute_result"
    }
   ],
   "source": [
    "data[[1, 2],:]\n",
    "data[[1, 2],]"
   ]
  },
  {
   "cell_type": "code",
   "execution_count": 29,
   "id": "9d458354",
   "metadata": {},
   "outputs": [
    {
     "data": {
      "text/plain": [
       "array([15, 27])"
      ]
     },
     "execution_count": 29,
     "metadata": {},
     "output_type": "execute_result"
    }
   ],
   "source": [
    "data[[1, 2],[1, 2]]"
   ]
  },
  {
   "cell_type": "code",
   "execution_count": 32,
   "id": "acc3be55",
   "metadata": {},
   "outputs": [
    {
     "data": {
      "text/plain": [
       "array([[15, 18],\n",
       "       [24, 27]])"
      ]
     },
     "execution_count": 32,
     "metadata": {},
     "output_type": "execute_result"
    }
   ],
   "source": [
    "data[1:3,1:3]"
   ]
  }
 ],
 "metadata": {
  "kernelspec": {
   "display_name": "Python 3 (ipykernel)",
   "language": "python",
   "name": "python3"
  },
  "language_info": {
   "codemirror_mode": {
    "name": "ipython",
    "version": 3
   },
   "file_extension": ".py",
   "mimetype": "text/x-python",
   "name": "python",
   "nbconvert_exporter": "python",
   "pygments_lexer": "ipython3",
   "version": "3.9.13"
  }
 },
 "nbformat": 4,
 "nbformat_minor": 5
}
