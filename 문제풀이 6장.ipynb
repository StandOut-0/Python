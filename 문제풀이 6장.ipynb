{
 "cells": [
  {
   "cell_type": "code",
   "execution_count": null,
   "id": "bee74169",
   "metadata": {},
   "outputs": [],
   "source": [
    "# 1. for문의 기본 구조이다. 빈 칸을 제시된 예로 채우시오. \n",
    "# for 변수 in range(시작값, 끝값, 증가값):\n",
    "#     이 부분을 반복"
   ]
  },
  {
   "cell_type": "code",
   "execution_count": 3,
   "id": "05fb5ddd",
   "metadata": {},
   "outputs": [
    {
     "name": "stdout",
     "output_type": "stream",
     "text": [
      "파이썬 완전 꿀잼이에요~~. ^^\n",
      "파이썬 완전 꿀잼이에요~~. ^^\n",
      "파이썬 완전 꿀잼이에요~~. ^^\n",
      "파이썬 완전 꿀잼이에요~~. ^^\n",
      "파이썬 완전 꿀잼이에요~~. ^^\n"
     ]
    }
   ],
   "source": [
    "# 2. 몇 번이 출력될지 예측하시오. \n",
    "for i in range(1, 100, 1) :\n",
    "    print(\"파이썬 완전 꿀잼이에요~~. ^^\")\n",
    "# 99번"
   ]
  },
  {
   "cell_type": "code",
   "execution_count": 5,
   "id": "87c2f789",
   "metadata": {},
   "outputs": [
    {
     "name": "stdout",
     "output_type": "stream",
     "text": [
      "100부터 200까지의 2의 배수 합계: 7650\n"
     ]
    }
   ],
   "source": [
    "# 3. 100부터 200까지 2의 배수만 더하는 프로그램이다. 빈 곳을 채워보자.\n",
    "# i, hap = 0, 0\n",
    "# for i in, 100, 200, 2: #모르겠는데?\n",
    "# 이거 문제에 오타나서 계속 오류뜬듯\n",
    "#     hap = hap+i\n",
    "\n",
    "i, hap = 0, 0\n",
    "tot = 0\n",
    "# for i in range(100, 200+1, 2):\n",
    "#    print(i) \n",
    "#     tot +=i\n",
    "\n",
    "for i in range(100, 200+1):\n",
    "    if i%2 == 0:\n",
    "        tot +=i\n",
    "print(\"100부터 200까지의 2의 배수 합계: %d\"%tot)"
   ]
  },
  {
   "cell_type": "code",
   "execution_count": 19,
   "id": "bcd81bea",
   "metadata": {},
   "outputs": [
    {
     "name": "stdout",
     "output_type": "stream",
     "text": [
      "파이썬 정말 꿀잼이에요~~. ^^\n",
      "파이썬 정말 꿀잼이에요~~. ^^\n",
      "파이썬 정말 꿀잼이에요~~. ^^\n",
      "파이썬 정말 꿀잼이에요~~. ^^\n",
      "파이썬 정말 꿀잼이에요~~. ^^\n",
      "파이썬 정말 꿀잼이에요~~. ^^\n",
      "파이썬 정말 꿀잼이에요~~. ^^\n",
      "파이썬 정말 꿀잼이에요~~. ^^\n",
      "파이썬 정말 꿀잼이에요~~. ^^\n",
      "파이썬 정말 꿀잼이에요~~. ^^\n",
      "파이썬 정말 꿀잼이에요~~. ^^\n",
      "파이썬 정말 꿀잼이에요~~. ^^\n",
      "파이썬 정말 꿀잼이에요~~. ^^\n",
      "파이썬 정말 꿀잼이에요~~. ^^\n",
      "파이썬 정말 꿀잼이에요~~. ^^\n",
      "파이썬 정말 꿀잼이에요~~. ^^\n"
     ]
    }
   ],
   "source": [
    "# 4. 몇 번이 출력될지 예측하시오. \n",
    "for i in range(1,10) :\n",
    "\tfor k in range (1, 10) :\n",
    "\t\tprint(\"파이썬 정말 꿀잼이에요~~. ^^\")\n",
    "# 81번"
   ]
  },
  {
   "cell_type": "code",
   "execution_count": 47,
   "id": "5c203c3d",
   "metadata": {},
   "outputs": [
    {
     "name": "stdout",
     "output_type": "stream",
     "text": [
      "5\n",
      "5 x 9 = 45\n",
      "5 x 8 = 40\n",
      "5 x 7 = 35\n",
      "5 x 6 = 30\n",
      "5 x 5 = 25\n",
      "5 x 4 = 20\n",
      "5 x 3 = 15\n",
      "5 x 2 = 10\n",
      "5 x 1 = 5\n"
     ]
    }
   ],
   "source": [
    "# 5. 구구단의 단을 입력하면 단이 다음과 같이 거꾸로 출력되도록 프로그램을 만들어 보자.\n",
    "# 힌트 : Code06-07.py을 참조하고, range() 함수를 수정하면 된다.\n",
    "\n",
    "num = int(input());\n",
    "\n",
    "for j in range (1, 10) :\n",
    "\tprint(num,\"x\",(10-j),\"=\",num*(10-j))\n",
    "#         print(i+\"x\"+j+\"=\"+i*j);"
   ]
  },
  {
   "cell_type": "code",
   "execution_count": 66,
   "id": "8b7ec744",
   "metadata": {},
   "outputs": [
    {
     "name": "stdout",
     "output_type": "stream",
     "text": [
      "0에서 100까지의 짝수의 합 : 2550\n"
     ]
    }
   ],
   "source": [
    "# 6. for문으로 5회 출력하는 0에서 100까지 2의 배수의 합계를 구하는 프로그램이다. 이 프로그램을 while문으로 수정해 보자.\n",
    "i, hap = 0, 0\n",
    "for i in range(0, 101, 2) :\n",
    "    hap = hap + i\n",
    "print(\"0에서 100까지의 짝수의 합 : %d\" % hap)"
   ]
  },
  {
   "cell_type": "code",
   "execution_count": 70,
   "id": "822ca930",
   "metadata": {},
   "outputs": [
    {
     "name": "stdout",
     "output_type": "stream",
     "text": [
      "0에서 100까지의 짝수의 합 : 2550\n"
     ]
    }
   ],
   "source": [
    "# 6. for문으로 5회 출력하는 0에서 100까지 2의 배수의 합계를 구하는 프로그램이다. 이 프로그램을 while문으로 수정해 보자.\n",
    "i, hap = 0, 0\n",
    "# for i in range(0, 101, 2) :\n",
    "#     hap = hap + i\n",
    "    \n",
    "while i < 100:\n",
    "    i=i+2\n",
    "    hap = hap + i\n",
    "    \n",
    "print(\"0에서 100까지의 짝수의 합 : %d\" % hap)"
   ]
  },
  {
   "cell_type": "code",
   "execution_count": 94,
   "id": "1841e7b4",
   "metadata": {},
   "outputs": [
    {
     "name": "stdout",
     "output_type": "stream",
     "text": [
      "9 번째 더하면 18\n"
     ]
    }
   ],
   "source": [
    "# 7. 1부터 1000 까지의 홀수의 합계 중에서, 최초로 1000이 넘는 숫자는 어떤 것인지 구하는 프로그램을 작성해 보자.\n",
    "total = 0\n",
    "for i in range(1, 1001):\n",
    "    if(j%2 !=0):\n",
    "        total = total+j\n",
    "        if (total >= 10):\n",
    "            print(j,\"번째 더하면\", total)\n",
    "            break\n",
    "    "
   ]
  },
  {
   "cell_type": "code",
   "execution_count": 41,
   "id": "0f77e480",
   "metadata": {},
   "outputs": [
    {
     "name": "stdout",
     "output_type": "stream",
     "text": [
      "숫자를 여러개 입력하세요123\n",
      "['1', '2', '3']\n",
      "3\n",
      "★★\n",
      "★★★★\n",
      "★★★★★★\n"
     ]
    }
   ],
   "source": [
    "# 8. 응용 예제1을 수정해서 입력한 숫자의 2배만큼 별모양이 출력되도록 코드를 작성 해보자. 예로 \"5914\"를 입력하면 다음과 같이 출력되도록 한다.\n",
    "# 힌트 : 별모양의 코드는 \\u2605를 사용하자.\n",
    "num = [];\n",
    "\n",
    "num.extend((input(\"숫자를 여러개 입력하세요\")))\n",
    "numLen = len(num)\n",
    "print(num)\n",
    "print(numLen)\n",
    "\n",
    "for i in range(numLen):\n",
    "    for j in range(int(num[i])*2):\n",
    "        print(\"\\u2605\", end=\"\")\n",
    "    print()\n"
   ]
  }
 ],
 "metadata": {
  "kernelspec": {
   "display_name": "Python 3 (ipykernel)",
   "language": "python",
   "name": "python3"
  },
  "language_info": {
   "codemirror_mode": {
    "name": "ipython",
    "version": 3
   },
   "file_extension": ".py",
   "mimetype": "text/x-python",
   "name": "python",
   "nbconvert_exporter": "python",
   "pygments_lexer": "ipython3",
   "version": "3.9.13"
  }
 },
 "nbformat": 4,
 "nbformat_minor": 5
}
