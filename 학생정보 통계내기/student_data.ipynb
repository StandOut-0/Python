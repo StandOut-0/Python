{
 "cells": [
  {
   "cell_type": "code",
   "execution_count": 2,
   "id": "1f75ca78",
   "metadata": {},
   "outputs": [],
   "source": [
    "import pandas as pd"
   ]
  },
  {
   "cell_type": "code",
   "execution_count": 8,
   "id": "8469d74b",
   "metadata": {},
   "outputs": [],
   "source": [
    "student=pd.read_excel('D:/# 박상희/2. 실습/data/student_data.xlsx')"
   ]
  },
  {
   "cell_type": "code",
   "execution_count": 9,
   "id": "c2c374a6",
   "metadata": {},
   "outputs": [
    {
     "data": {
      "text/html": [
       "<div>\n",
       "<style scoped>\n",
       "    .dataframe tbody tr th:only-of-type {\n",
       "        vertical-align: middle;\n",
       "    }\n",
       "\n",
       "    .dataframe tbody tr th {\n",
       "        vertical-align: top;\n",
       "    }\n",
       "\n",
       "    .dataframe thead th {\n",
       "        text-align: right;\n",
       "    }\n",
       "</style>\n",
       "<table border=\"1\" class=\"dataframe\">\n",
       "  <thead>\n",
       "    <tr style=\"text-align: right;\">\n",
       "      <th></th>\n",
       "      <th>키</th>\n",
       "      <th>몸무게</th>\n",
       "      <th>나이</th>\n",
       "    </tr>\n",
       "  </thead>\n",
       "  <tbody>\n",
       "    <tr>\n",
       "      <th>count</th>\n",
       "      <td>5.000000</td>\n",
       "      <td>5.000000</td>\n",
       "      <td>5.000000</td>\n",
       "    </tr>\n",
       "    <tr>\n",
       "      <th>mean</th>\n",
       "      <td>170.000000</td>\n",
       "      <td>59.500000</td>\n",
       "      <td>22.800000</td>\n",
       "    </tr>\n",
       "    <tr>\n",
       "      <th>std</th>\n",
       "      <td>3.162278</td>\n",
       "      <td>8.146779</td>\n",
       "      <td>1.643168</td>\n",
       "    </tr>\n",
       "    <tr>\n",
       "      <th>min</th>\n",
       "      <td>166.000000</td>\n",
       "      <td>50.000000</td>\n",
       "      <td>21.000000</td>\n",
       "    </tr>\n",
       "    <tr>\n",
       "      <th>25%</th>\n",
       "      <td>168.000000</td>\n",
       "      <td>52.700000</td>\n",
       "      <td>22.000000</td>\n",
       "    </tr>\n",
       "    <tr>\n",
       "      <th>50%</th>\n",
       "      <td>170.000000</td>\n",
       "      <td>60.000000</td>\n",
       "      <td>22.000000</td>\n",
       "    </tr>\n",
       "    <tr>\n",
       "      <th>75%</th>\n",
       "      <td>172.000000</td>\n",
       "      <td>66.000000</td>\n",
       "      <td>24.000000</td>\n",
       "    </tr>\n",
       "    <tr>\n",
       "      <th>max</th>\n",
       "      <td>174.000000</td>\n",
       "      <td>68.800000</td>\n",
       "      <td>25.000000</td>\n",
       "    </tr>\n",
       "  </tbody>\n",
       "</table>\n",
       "</div>"
      ],
      "text/plain": [
       "                키        몸무게         나이\n",
       "count    5.000000   5.000000   5.000000\n",
       "mean   170.000000  59.500000  22.800000\n",
       "std      3.162278   8.146779   1.643168\n",
       "min    166.000000  50.000000  21.000000\n",
       "25%    168.000000  52.700000  22.000000\n",
       "50%    170.000000  60.000000  22.000000\n",
       "75%    172.000000  66.000000  24.000000\n",
       "max    174.000000  68.800000  25.000000"
      ]
     },
     "execution_count": 9,
     "metadata": {},
     "output_type": "execute_result"
    }
   ],
   "source": [
    "student.describe()"
   ]
  },
  {
   "cell_type": "code",
   "execution_count": 18,
   "id": "50dd2049",
   "metadata": {},
   "outputs": [
    {
     "name": "stdout",
     "output_type": "stream",
     "text": [
      "5\n",
      "170.0\n",
      "-----------\n",
      "5\n",
      "59.5\n"
     ]
    }
   ],
   "source": [
    "print(student['키'].count())\n",
    "print(student['키'].mean())\n",
    "print(\"-----------\")\n",
    "print(student['몸무게'].count())\n",
    "print(student['몸무게'].mean())"
   ]
  },
  {
   "cell_type": "code",
   "execution_count": 20,
   "id": "0e23b3b2",
   "metadata": {},
   "outputs": [],
   "source": [
    "import numpy as np"
   ]
  },
  {
   "cell_type": "code",
   "execution_count": 21,
   "id": "32b117b2",
   "metadata": {},
   "outputs": [
    {
     "data": {
      "text/plain": [
       "53.09599999999998"
      ]
     },
     "execution_count": 21,
     "metadata": {},
     "output_type": "execute_result"
    }
   ],
   "source": [
    "np.var(student['몸무게'])"
   ]
  },
  {
   "cell_type": "code",
   "execution_count": 22,
   "id": "51d5cfb9",
   "metadata": {},
   "outputs": [
    {
     "data": {
      "text/plain": [
       "7.286700213402496"
      ]
     },
     "execution_count": 22,
     "metadata": {},
     "output_type": "execute_result"
    }
   ],
   "source": [
    "np.std(student['몸무게'])"
   ]
  },
  {
   "cell_type": "code",
   "execution_count": 23,
   "id": "cf496b2b",
   "metadata": {},
   "outputs": [
    {
     "data": {
      "text/plain": [
       "0    7.745967\n",
       "1    7.071068\n",
       "2    8.124038\n",
       "3    7.259477\n",
       "4    8.294577\n",
       "Name: 몸무게, dtype: float64"
      ]
     },
     "execution_count": 23,
     "metadata": {},
     "output_type": "execute_result"
    }
   ],
   "source": [
    "np.sqrt(student['몸무게'])"
   ]
  },
  {
   "cell_type": "code",
   "execution_count": 24,
   "id": "d3ad997d",
   "metadata": {},
   "outputs": [
    {
     "data": {
      "text/plain": [
       "7.286700213402496"
      ]
     },
     "execution_count": 24,
     "metadata": {},
     "output_type": "execute_result"
    }
   ],
   "source": [
    "np.sqrt(np.var(student['몸무게']))"
   ]
  },
  {
   "cell_type": "code",
   "execution_count": 27,
   "id": "043e98c2",
   "metadata": {},
   "outputs": [],
   "source": [
    "import scipy as sp"
   ]
  },
  {
   "cell_type": "code",
   "execution_count": 28,
   "id": "1bf69fec",
   "metadata": {},
   "outputs": [],
   "source": [
    "from scipy import ndimage"
   ]
  },
  {
   "cell_type": "code",
   "execution_count": 29,
   "id": "5849f043",
   "metadata": {},
   "outputs": [
    {
     "data": {
      "text/plain": [
       "array([60. , 50. , 66. , 52.7, 68.8])"
      ]
     },
     "execution_count": 29,
     "metadata": {},
     "output_type": "execute_result"
    }
   ],
   "source": [
    "np.array(student['몸무게'])"
   ]
  },
  {
   "cell_type": "code",
   "execution_count": 30,
   "id": "972f11cf",
   "metadata": {},
   "outputs": [
    {
     "data": {
      "text/plain": [
       "53.09599999999998"
      ]
     },
     "execution_count": 30,
     "metadata": {},
     "output_type": "execute_result"
    }
   ],
   "source": [
    "ndimage.variance(np.array(student['몸무게']))"
   ]
  },
  {
   "cell_type": "code",
   "execution_count": 31,
   "id": "7555d500",
   "metadata": {},
   "outputs": [
    {
     "data": {
      "text/plain": [
       "7.286700213402496"
      ]
     },
     "execution_count": 31,
     "metadata": {},
     "output_type": "execute_result"
    }
   ],
   "source": [
    "ndimage.standard_deviation(np.array(student['몸무게']))"
   ]
  }
 ],
 "metadata": {
  "kernelspec": {
   "display_name": "Python 3 (ipykernel)",
   "language": "python",
   "name": "python3"
  },
  "language_info": {
   "codemirror_mode": {
    "name": "ipython",
    "version": 3
   },
   "file_extension": ".py",
   "mimetype": "text/x-python",
   "name": "python",
   "nbconvert_exporter": "python",
   "pygments_lexer": "ipython3",
   "version": "3.9.13"
  }
 },
 "nbformat": 4,
 "nbformat_minor": 5
}
