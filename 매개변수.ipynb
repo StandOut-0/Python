{
 "cells": [
  {
   "cell_type": "code",
   "execution_count": 3,
   "id": "5c45eb12",
   "metadata": {},
   "outputs": [
    {
     "name": "stdout",
     "output_type": "stream",
     "text": [
      "사각형x의 길이:  10\n",
      "사각형y의 길이:  20\n",
      "사각형의 넓이:  200\n"
     ]
    }
   ],
   "source": [
    "def square(x, y):\n",
    "    return x*y\n",
    "\n",
    "x_lengh = 10\n",
    "y_lengh = 20\n",
    "\n",
    "print(\"사각형x의 길이: \", x_lengh)\n",
    "print(\"사각형y의 길이: \", y_lengh)\n",
    "print(\"사각형의 넓이: \",square(x_lengh, y_lengh) )"
   ]
  },
  {
   "cell_type": "code",
   "execution_count": 4,
   "id": "fbdd549b",
   "metadata": {},
   "outputs": [
    {
     "name": "stdout",
     "output_type": "stream",
     "text": [
      "151\n"
     ]
    }
   ],
   "source": [
    "def f(x): #매개변수\n",
    "    return 2*x+7\n",
    "def g(x):\n",
    "    return x**2\n",
    "x=2\n",
    "print(f(x)+g(x)+f(g(x))+g(f(x))) #인수"
   ]
  },
  {
   "cell_type": "code",
   "execution_count": 8,
   "id": "de31d005",
   "metadata": {},
   "outputs": [
    {
     "name": "stdout",
     "output_type": "stream",
     "text": [
      "35\n",
      "35\n",
      "35\n",
      "35\n"
     ]
    }
   ],
   "source": [
    "#함수의 형태\n",
    "def a_square():\n",
    "    print(5*7)\n",
    "def b_square(x, y):\n",
    "    print(x*y)\n",
    "def c_square():\n",
    "    return(5*7)\n",
    "def d_square(x, y):\n",
    "    return(x*y)\n",
    "\n",
    "a_square()\n",
    "b_square(5, 7)\n",
    "print(c_square())\n",
    "print(d_square(5, 7))"
   ]
  },
  {
   "cell_type": "code",
   "execution_count": 9,
   "id": "a7e5be2c",
   "metadata": {},
   "outputs": [
    {
     "name": "stdout",
     "output_type": "stream",
     "text": [
      "9\n",
      "3\n"
     ]
    }
   ],
   "source": [
    "#전역 global\n",
    "def f(x):\n",
    "    #지역 local\n",
    "    y=x\n",
    "    x=5\n",
    "    return y*y\n",
    "x=3\n",
    "print(f(x)) # y=3, x=5 3*3=9\n",
    "print(x) # 3"
   ]
  },
  {
   "cell_type": "code",
   "execution_count": 11,
   "id": "e3f75eb3",
   "metadata": {},
   "outputs": [
    {
     "name": "stdout",
     "output_type": "stream",
     "text": [
      "[0, 1]\n",
      "[0, 1]\n"
     ]
    }
   ],
   "source": [
    "def spam(eggs):\n",
    "    eggs.append(1) #1\n",
    "    eggs = [2, 3] # 2, 3\n",
    "ham = [0] #0\n",
    "spam(ham) #0, 1   2, 3\n",
    "print(ham)"
   ]
  },
  {
   "cell_type": "code",
   "execution_count": 15,
   "id": "232b131b",
   "metadata": {},
   "outputs": [
    {
     "name": "stdout",
     "output_type": "stream",
     "text": [
      "10\n",
      "20\n",
      "10\n"
     ]
    },
    {
     "ename": "NameError",
     "evalue": "name 't' is not defined",
     "output_type": "error",
     "traceback": [
      "\u001b[1;31m---------------------------------------------------------------------------\u001b[0m",
      "\u001b[1;31mNameError\u001b[0m                                 Traceback (most recent call last)",
      "\u001b[1;32m~\\AppData\\Local\\Temp\\ipykernel_6520\\1595968663.py\u001b[0m in \u001b[0;36m<module>\u001b[1;34m\u001b[0m\n\u001b[0;32m      7\u001b[0m \u001b[0mtest\u001b[0m\u001b[1;33m(\u001b[0m\u001b[0mx\u001b[0m\u001b[1;33m)\u001b[0m \u001b[1;31m#x=10 test(t)=print(10), (20)       10, 20\u001b[0m\u001b[1;33m\u001b[0m\u001b[1;33m\u001b[0m\u001b[0m\n\u001b[0;32m      8\u001b[0m \u001b[0mprint\u001b[0m\u001b[1;33m(\u001b[0m\u001b[0mx\u001b[0m\u001b[1;33m)\u001b[0m \u001b[1;31m# 10\u001b[0m\u001b[1;33m\u001b[0m\u001b[1;33m\u001b[0m\u001b[0m\n\u001b[1;32m----> 9\u001b[1;33m \u001b[0mprint\u001b[0m\u001b[1;33m(\u001b[0m\u001b[0mt\u001b[0m\u001b[1;33m)\u001b[0m \u001b[1;31m#20\u001b[0m\u001b[1;33m\u001b[0m\u001b[1;33m\u001b[0m\u001b[0m\n\u001b[0m",
      "\u001b[1;31mNameError\u001b[0m: name 't' is not defined"
     ]
    }
   ],
   "source": [
    "def test(t):\n",
    "    print(x)\n",
    "    t=20\n",
    "    print(t)\n",
    "    \n",
    "x=10\n",
    "test(x) #x=10 test(t)=print(10), (20)       10, 20\n",
    "print(x) # 10\n",
    "\n",
    "print(t) #밖에서 찾을 수 없다."
   ]
  },
  {
   "cell_type": "code",
   "execution_count": 16,
   "id": "53b1e31b",
   "metadata": {},
   "outputs": [
    {
     "name": "stdout",
     "output_type": "stream",
     "text": [
      "A\n",
      "A\n"
     ]
    }
   ],
   "source": [
    "# global 키워드, 함수내에서 글로벌 변수를 끌어다 쓴다.\n",
    "def f():\n",
    "    global s\n",
    "    s=\"A\"\n",
    "    print(s)\n",
    "    \n",
    "s=\"B\"\n",
    "f() # s=\"B\" A\n",
    "print(s) #A"
   ]
  },
  {
   "cell_type": "code",
   "execution_count": 18,
   "id": "41a64ce0",
   "metadata": {},
   "outputs": [
    {
     "name": "stdout",
     "output_type": "stream",
     "text": [
      "in Program\n",
      "a: 5 b: 7 a+b: 12\n",
      "in function\n",
      "a: 5 b: 7 a+b: 12 total: 12\n",
      "after calc\n",
      "total: 0 sum: 12\n"
     ]
    }
   ],
   "source": [
    "def calc(x, y):\n",
    "    total = x+y\n",
    "    print(\"in function\")\n",
    "    print(\"a:\", str(a), \"b:\", str(b), \"a+b:\", str(a+b), \"total:\", str(total))\n",
    "    return total\n",
    "\n",
    "a=5\n",
    "b=7\n",
    "total =0\n",
    "\n",
    "print(\"in Program\")  # (\"in Program\")\n",
    "print(\"a:\", str(a), \"b:\", str(b), \"a+b:\", str(a+b)) #5, 7, 12\n",
    "\n",
    "sum = calc(a, b) #calc(5, 7)\n",
    "print(\"after calc\") #after calc\n",
    "print(\"total:\", str(total), \"sum:\", str(sum)) \n",
    "# calc(5, 7)  total=12 \n",
    "#in function\n",
    "#a5 b7 a+b12 total12\n",
    "# sum = calc(a, b) 12\n",
    "#total값을 구해낼 수 없음, sum12"
   ]
  }
 ],
 "metadata": {
  "kernelspec": {
   "display_name": "Python 3 (ipykernel)",
   "language": "python",
   "name": "python3"
  },
  "language_info": {
   "codemirror_mode": {
    "name": "ipython",
    "version": 3
   },
   "file_extension": ".py",
   "mimetype": "text/x-python",
   "name": "python",
   "nbconvert_exporter": "python",
   "pygments_lexer": "ipython3",
   "version": "3.9.13"
  }
 },
 "nbformat": 4,
 "nbformat_minor": 5
}
