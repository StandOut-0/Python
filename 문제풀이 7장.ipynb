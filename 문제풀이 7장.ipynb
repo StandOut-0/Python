{
 "cells": [
  {
   "cell_type": "code",
   "execution_count": 1,
   "id": "eb3a17d0",
   "metadata": {},
   "outputs": [
    {
     "data": {
      "text/plain": [
       "99"
      ]
     },
     "execution_count": 1,
     "metadata": {},
     "output_type": "execute_result"
    }
   ],
   "source": [
    "# 100개의 빈 리스트를 만들고 길이를 구하는 코드.\n",
    "myList = []\n",
    "for i in range(1, 100):\n",
    "    myList.append(0)\n",
    "len(myList)"
   ]
  },
  {
   "cell_type": "code",
   "execution_count": 11,
   "id": "fe2b1b05",
   "metadata": {},
   "outputs": [
    {
     "name": "stdout",
     "output_type": "stream",
     "text": [
      "5\n",
      "5\n",
      "5\n",
      "15\n"
     ]
    }
   ],
   "source": [
    "# 사용자가 숫자 3개 입력하고 숫자의 합계를 구하는 프로그램\n",
    "li2 = []\n",
    "tot=0\n",
    "for i in range(3):\n",
    "    num = int(input())\n",
    "    li2.append(num)\n",
    "for i in li2:\n",
    "    tot = tot+i\n",
    "print(tot)"
   ]
  },
  {
   "cell_type": "code",
   "execution_count": null,
   "id": "69b7be75",
   "metadata": {},
   "outputs": [],
   "source": [
    "# 비어있는 자료구조를 초기화하기 위한 코드\n",
    "# 1 - 나\n",
    "# 2 - 다\n",
    "# 3 - 가\n",
    "# 4 - 라"
   ]
  },
  {
   "cell_type": "code",
   "execution_count": 45,
   "id": "1cb539b1",
   "metadata": {},
   "outputs": [
    {
     "name": "stdout",
     "output_type": "stream",
     "text": [
      "[0, 1, 2, 3, 4, 5, 6]\n",
      "[0, 1, 2, 3, 4, 5, 6]\n",
      "[0, 2, 4, 6]\n"
     ]
    }
   ],
   "source": [
    "print(list(range(7)));\n",
    "print(list(range(0, 6+1)));\n",
    "print(list(range(0, 6+1, 2)));"
   ]
  },
  {
   "cell_type": "code",
   "execution_count": 12,
   "id": "3f70f8e7",
   "metadata": {},
   "outputs": [
    {
     "data": {
      "text/plain": [
       "NoneType"
      ]
     },
     "execution_count": 12,
     "metadata": {},
     "output_type": "execute_result"
    }
   ],
   "source": [
    "#자바의 null처럼 아무런값도 가지고 있지않음\n",
    "a = None\n",
    "type(a) #NoneType"
   ]
  },
  {
   "cell_type": "code",
   "execution_count": 99,
   "id": "f37c50b9",
   "metadata": {},
   "outputs": [
    {
     "name": "stdout",
     "output_type": "stream",
     "text": [
      "['찬미', '민아', '혜정', '유경', '유나', '지민', '설현']\n",
      "['찬미', '혜정', '유나', '설현']\n",
      "['설현', '지민', '유나', '유경', '혜정', '민아', '찬미']\n"
     ]
    },
    {
     "data": {
      "text/plain": [
       "<function list.pop(index=-1, /)>"
      ]
     },
     "execution_count": 99,
     "metadata": {},
     "output_type": "execute_result"
    }
   ],
   "source": [
    "print(aoa[:]);\n",
    "print(aoa[::2]);\n",
    "print(aoa[::-1]);"
   ]
  },
  {
   "cell_type": "code",
   "execution_count": 98,
   "id": "d3215036",
   "metadata": {},
   "outputs": [
    {
     "name": "stdout",
     "output_type": "stream",
     "text": [
      "['찬미', '민아', '혜정', '유경', '유나', '지민', '초아', '설현']\n",
      "설현 초아 지민 유나 유경 혜정 민아 찬미 \n",
      "['찬미', '민아', '혜정', '유경', '유나', '지민', '설현'] "
     ]
    }
   ],
   "source": [
    "# 6.각문제의 출력되는 결과를 예측\n",
    "\n",
    "aoa=[ '설현' , '초아' , '지민', '유나' , '유경', '혜정' , '민아', '찬미' ]\n",
    "aoa.reverse()\n",
    "print(aoa)\n",
    "\n",
    "for i in range(7,0-1,-1):\n",
    "    print(aoa[i], end=' ')\n",
    "    \n",
    "print()\n",
    "    \n",
    "aoa.remove('초아')\n",
    "\n",
    "print(aoa, end=' ')"
   ]
  },
  {
   "cell_type": "code",
   "execution_count": 65,
   "id": "fb2f8ed1",
   "metadata": {},
   "outputs": [
    {
     "name": "stdout",
     "output_type": "stream",
     "text": [
      "Help on built-in function remove:\n",
      "\n",
      "remove(value, /) method of builtins.list instance\n",
      "    Remove first occurrence of value.\n",
      "    \n",
      "    Raises ValueError if the value is not present.\n",
      "\n"
     ]
    }
   ],
   "source": [
    "help(aoa.remove)"
   ]
  },
  {
   "cell_type": "code",
   "execution_count": 106,
   "id": "04b825e1",
   "metadata": {},
   "outputs": [
    {
     "name": "stdout",
     "output_type": "stream",
     "text": [
      "[5, 4, 3, 6, 1]\n",
      "[1, 3, 4, 5, 6]\n",
      "[6, 5, 4, 3, 1]\n"
     ]
    }
   ],
   "source": [
    "li = [1, 6, 3, 4, 5]\n",
    "# sort(li)\n",
    "li.reverse()\n",
    "print(li)\n",
    "li.sort()\n",
    "print(li)\n",
    "li.reverse() #숫자역순을 하고싶다면 sort 후 reverse를 해야.\n",
    "print(li)"
   ]
  },
  {
   "cell_type": "code",
   "execution_count": 105,
   "id": "d8788823",
   "metadata": {},
   "outputs": [
    {
     "name": "stdout",
     "output_type": "stream",
     "text": [
      "[1, 2, 3, 4, 5, '내가 빠질거다']\n",
      "[1, 2, 3, 4, 5]\n"
     ]
    }
   ],
   "source": [
    "li = [1, 2, 3, 4, 5, \"내가 빠질거다\"]\n",
    "print(li)\n",
    "li.pop() # 마지막부터 꺼낸다.\n",
    "print(li)"
   ]
  },
  {
   "cell_type": "code",
   "execution_count": 145,
   "id": "3d51e082",
   "metadata": {},
   "outputs": [
    {
     "name": "stdout",
     "output_type": "stream",
     "text": [
      "['어디에', '무엇이', '정렬될까', '어팬드']\n",
      "['어디에', '무엇이', '정렬될까', '어팬드', '익스텐드']\n",
      "['어디에', '무엇이', '정렬될까', '어팬드', '익스텐드', '익', '스', '텐', '드']\n"
     ]
    }
   ],
   "source": [
    "# entend\n",
    "li = [\"어디에\", \"무엇이\", \"정렬될까\"]\n",
    "li.append(\"어팬드\")\n",
    "print(li)\n",
    "li.extend(['익스텐드'])\n",
    "print(li)\n",
    "li.extend('익스텐드')\n",
    "print(li)"
   ]
  },
  {
   "cell_type": "code",
   "execution_count": 168,
   "id": "93e410bb",
   "metadata": {},
   "outputs": [
    {
     "name": "stdout",
     "output_type": "stream",
     "text": [
      "3\n",
      "3 4\n",
      "[3, 4]\n",
      "2 3 5 6\n",
      "\n",
      "[2, 3] [5, 6]\n",
      "[1, 2, 3, 4] [9, 10, 11, 12]\n"
     ]
    }
   ],
   "source": [
    "myList = [ \n",
    "    [ 1,  2,  3,  4] ,\n",
    "    [5,  6,  7,  8] ,\n",
    "    [9, 10,  11, 12] ]\n",
    "\n",
    "print(myList[0][2]);\n",
    "print(myList[0][2], myList[0][3]);\n",
    "print(myList[0][2:]);\n",
    "print(myList[0][1], myList[0][2], myList[1][0], myList[1][1]);\n",
    "print()\n",
    "print(myList[0][1:3], myList[1][0:2]);\n",
    "print(myList[0],myList[2]);\n",
    "\n",
    "lenght = len(myList[0])"
   ]
  },
  {
   "cell_type": "code",
   "execution_count": 173,
   "id": "221b1528",
   "metadata": {},
   "outputs": [
    {
     "name": "stdout",
     "output_type": "stream",
     "text": [
      "{1, 2, 3}\n"
     ]
    }
   ],
   "source": [
    "# 8. 다음을 실행하면 myData에 저장된 값은 몇 개인가?\n",
    "myData = { 1, 1, 1, 2, 2, 3, 3, 3 }\n",
    "myData.add\n",
    "print(myData)"
   ]
  },
  {
   "cell_type": "code",
   "execution_count": 1,
   "id": "3da963ed",
   "metadata": {},
   "outputs": [
    {
     "name": "stdout",
     "output_type": "stream",
     "text": [
      "[2, 8]\n"
     ]
    }
   ],
   "source": [
    "# 9. 다음을 실행하면 myData에 저장된 값은?\n",
    "import math\n",
    "myData = [  int(math.pow(2,num)) for num in range(0, 5) if num%2 != 0]\n",
    "# 2의 num승..,?\n",
    "# 5번 홀수를 반복할것이다 1, 3, 5, 7, 9\n",
    "# 아니 num이 초기화가 되지안았는데 num이 뭐란거임..,?\n",
    "#0~5중에 홀수만 num에 들어갈것이다 = 1, 3 \n",
    "#math.pow(n, 0) 제곱, n의 0승\n",
    "#즉 2의 1승, 3승으로 2, 8\n",
    "print(myData)\n",
    "\n",
    "# 몬소린지 이해가안감"
   ]
  },
  {
   "cell_type": "code",
   "execution_count": null,
   "id": "ac7f6cb3",
   "metadata": {},
   "outputs": [],
   "source": []
  }
 ],
 "metadata": {
  "kernelspec": {
   "display_name": "Python 3 (ipykernel)",
   "language": "python",
   "name": "python3"
  },
  "language_info": {
   "codemirror_mode": {
    "name": "ipython",
    "version": 3
   },
   "file_extension": ".py",
   "mimetype": "text/x-python",
   "name": "python",
   "nbconvert_exporter": "python",
   "pygments_lexer": "ipython3",
   "version": "3.9.13"
  }
 },
 "nbformat": 4,
 "nbformat_minor": 5
}
