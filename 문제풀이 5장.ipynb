{
 "cells": [
  {
   "cell_type": "code",
   "execution_count": null,
   "id": "2642698f",
   "metadata": {},
   "outputs": [],
   "source": [
    "#1. if문의 기본 구조 이다. 빈 칸을 제시된 예로 채우시오. \n",
    "# 실행할 문장1, 실행할 문장2, 조건식\n",
    "\n",
    "# if 조건식:\n",
    "# 실행할 문장1\n",
    "# else:\n",
    "# 실행할 문장2"
   ]
  },
  {
   "cell_type": "code",
   "execution_count": null,
   "id": "a8c537ab",
   "metadata": {},
   "outputs": [],
   "source": [
    "#2. 다음 if문의 결과를 예측하시오.\n",
    "# 100이군요"
   ]
  },
  {
   "cell_type": "code",
   "execution_count": null,
   "id": "b72b903b",
   "metadata": {},
   "outputs": [],
   "source": [
    "# 3. 다음 if문의 결과를 예측하시오. \n",
    "# 아무것도 출력되지않는다"
   ]
  },
  {
   "cell_type": "code",
   "execution_count": 2,
   "id": "8e0468a8",
   "metadata": {},
   "outputs": [
    {
     "name": "stdout",
     "output_type": "stream",
     "text": [
      "정수를 입력하세요: 2\n",
      "3x\n"
     ]
    }
   ],
   "source": [
    "# 4. 입력한 숫자가 3의 배수인지를 판단하는 프로그램이다. 빈 곳을 채우시오. \n",
    "a=int(input(\"정수를 입력하세요: \"))\n",
    "if a%3 ==0:\n",
    "    print(\"3\")\n",
    "else:\n",
    "    print(\"3x\")"
   ]
  },
  {
   "cell_type": "code",
   "execution_count": null,
   "id": "87bb23e6",
   "metadata": {},
   "outputs": [],
   "source": [
    "# 5. 다음 if문의 결과를 예측하시오. \n",
    "# 적당한 수입니다."
   ]
  },
  {
   "cell_type": "code",
   "execution_count": 3,
   "id": "83d0482a",
   "metadata": {},
   "outputs": [
    {
     "name": "stdout",
     "output_type": "stream",
     "text": [
      "불합격 이지만 과락은 아닙니다.\n"
     ]
    }
   ],
   "source": [
    "# 6 다음 중첩 if문을 elif를 사용하는 코드로 변경해 보자.\n",
    "score=55\n",
    "if score >= 60 :\n",
    "    print(\"합격이다.\")\n",
    "elif score >= 40 :\n",
    "    print(\"불합격 이지만 과락은 아닙니다.\")\n",
    "else:\n",
    "    print(\"불합격 이면서 과락입니다.\")"
   ]
  },
  {
   "cell_type": "code",
   "execution_count": 21,
   "id": "22f8582a",
   "metadata": {},
   "outputs": [
    {
     "name": "stdout",
     "output_type": "stream",
     "text": [
      "A의 주사위 숫자는 2 입니다.\n",
      "B의 주사위 숫자는 2 입니다.\n",
      "비겼다\n"
     ]
    }
   ],
   "source": [
    "# 7. 두 사람이 주사위를 던져서 높은 숫자가 나오면 이기는 게임이다. 출력결과는 A가 이기거나, B가 이기거나, 비기는 결과가 나와야 한다. 코드를 작성해 보자. \n",
    "\n",
    "# person1 =5\n",
    "# person2 =1\n",
    "import random\n",
    "person1 =random.randint(1, 6)\n",
    "person2 =random.randint(1, 6)\n",
    "\n",
    "if person1 > person2:\n",
    "    print(\"A의 주사위 숫자는\",person1,\"입니다.\")\n",
    "    print(\"B의 주사위 숫자는\",person2,\"입니다.\")\n",
    "    print(\"A가 이겼다.\")\n",
    "elif person1 < person2:\n",
    "    print(\"A의 주사위 숫자는\",person1,\"입니다.\")\n",
    "    print(\"B의 주사위 숫자는\",person2,\"입니다.\")\n",
    "    print(\"B가 이겼다.\")\n",
    "else:\n",
    "    print(\"A의 주사위 숫자는\",person1,\"입니다.\")\n",
    "    print(\"B의 주사위 숫자는\",person2,\"입니다.\")\n",
    "    print(\"비겼다\")"
   ]
  }
 ],
 "metadata": {
  "kernelspec": {
   "display_name": "Python 3 (ipykernel)",
   "language": "python",
   "name": "python3"
  },
  "language_info": {
   "codemirror_mode": {
    "name": "ipython",
    "version": 3
   },
   "file_extension": ".py",
   "mimetype": "text/x-python",
   "name": "python",
   "nbconvert_exporter": "python",
   "pygments_lexer": "ipython3",
   "version": "3.9.13"
  }
 },
 "nbformat": 4,
 "nbformat_minor": 5
}
