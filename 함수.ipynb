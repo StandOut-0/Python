{
 "cells": [
  {
   "cell_type": "code",
   "execution_count": null,
   "id": "05333ef5",
   "metadata": {},
   "outputs": [],
   "source": [
    "함수의 4가지 형태\n",
    "# xx\n",
    "# ox\n",
    "# xo\n",
    "# oo"
   ]
  },
  {
   "cell_type": "code",
   "execution_count": 6,
   "id": "6663065c",
   "metadata": {},
   "outputs": [
    {
     "name": "stdout",
     "output_type": "stream",
     "text": [
      "순자님 안녕\n",
      "<class 'function'>\n",
      "2242951462976\n"
     ]
    }
   ],
   "source": [
    "# xx\n",
    "def give1():\n",
    "    pass #아무것도 하지않겠다.\n",
    "    print(\"순자님 안녕\");\n",
    "give1()\n",
    "print(type(give1))\n",
    "print(id(give1))"
   ]
  },
  {
   "cell_type": "code",
   "execution_count": 11,
   "id": "e03f1930",
   "metadata": {},
   "outputs": [
    {
     "name": "stdout",
     "output_type": "stream",
     "text": [
      "순자님 안녕\n",
      "여기 사탕이에요\n"
     ]
    }
   ],
   "source": [
    "# ox\n",
    "def give2(gift):\n",
    "    print(\"여기 \"+gift+\"이에요\");\n",
    "give1()\n",
    "give2(\"사탕\")"
   ]
  },
  {
   "cell_type": "code",
   "execution_count": 16,
   "id": "ff594d27",
   "metadata": {},
   "outputs": [
    {
     "name": "stdout",
     "output_type": "stream",
     "text": [
      "이건 초콜릿이에요\n"
     ]
    }
   ],
   "source": [
    "# xo\n",
    "def give3():\n",
    "    return \"초콜릿\"\n",
    "print(\"이건 \"+give2()+\"이에요\")"
   ]
  },
  {
   "cell_type": "code",
   "execution_count": 23,
   "id": "3191ba84",
   "metadata": {},
   "outputs": [
    {
     "name": "stdout",
     "output_type": "stream",
     "text": [
      "여기 사탕이에요\n"
     ]
    },
    {
     "data": {
      "text/plain": [
       "'초콜릿'"
      ]
     },
     "execution_count": 23,
     "metadata": {},
     "output_type": "execute_result"
    }
   ],
   "source": [
    "# oo\n",
    "def give4(gift):\n",
    "    print(\"여기 \"+gift+\"이에요\");\n",
    "    return \"초콜릿\"\n",
    "give4(\"사탕\")"
   ]
  }
 ],
 "metadata": {
  "kernelspec": {
   "display_name": "Python 3 (ipykernel)",
   "language": "python",
   "name": "python3"
  },
  "language_info": {
   "codemirror_mode": {
    "name": "ipython",
    "version": 3
   },
   "file_extension": ".py",
   "mimetype": "text/x-python",
   "name": "python",
   "nbconvert_exporter": "python",
   "pygments_lexer": "ipython3",
   "version": "3.9.13"
  }
 },
 "nbformat": 4,
 "nbformat_minor": 5
}
