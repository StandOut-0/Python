{
 "cells": [
  {
   "cell_type": "code",
   "execution_count": 6,
   "id": "0542f1e5",
   "metadata": {},
   "outputs": [
    {
     "name": "stdout",
     "output_type": "stream",
     "text": [
      "정답은 21 \n",
      "\n"
     ]
    }
   ],
   "source": [
    "# 해적이 1~100범위안 정수를 하나 가지고 있다\n",
    "import random\n",
    "secret = random.randint(1, 100);\n",
    "print(\"정답은\",secret)"
   ]
  },
  {
   "cell_type": "code",
   "execution_count": null,
   "id": "dabcd576",
   "metadata": {},
   "outputs": [],
   "source": [
    "count = 0\n",
    "\n",
    "while count < 6 :\n",
    "    guess = int(input(\"숫자를 입력하세요: \"))\n",
    "    if guess < secret:\n",
    "        count = count+1\n",
    "        print(\"시도횟수가\",5-count,\"번 남았어요, 보다 큰수를 입력하세요\\n\")\n",
    "    elif guess > secret:\n",
    "        count = count+1\n",
    "        print(\"시도횟수가 %d번 남았어요, 보다 작은수를 입력하세요\\n\" %(5-count))\n",
    "    else:\n",
    "        count = count+1\n",
    "        print(count,\"번째 도전만에 맞췄어요, 축하합니다.\")\n",
    "        break\n",
    "    if count == 5:\n",
    "        print(\"도전회수를 모두 소진했습니다.\") \n",
    "        break"
   ]
  }
 ],
 "metadata": {
  "kernelspec": {
   "display_name": "Python 3 (ipykernel)",
   "language": "python",
   "name": "python3"
  },
  "language_info": {
   "codemirror_mode": {
    "name": "ipython",
    "version": 3
   },
   "file_extension": ".py",
   "mimetype": "text/x-python",
   "name": "python",
   "nbconvert_exporter": "python",
   "pygments_lexer": "ipython3",
   "version": "3.9.13"
  }
 },
 "nbformat": 4,
 "nbformat_minor": 5
}
